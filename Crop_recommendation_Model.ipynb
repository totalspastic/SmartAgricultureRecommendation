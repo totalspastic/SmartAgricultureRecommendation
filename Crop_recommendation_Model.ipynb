{
 "cells": [
  {
   "cell_type": "markdown",
   "id": "a76eb17f",
   "metadata": {
    "id": "a76eb17f"
   },
   "source": [
    "# Crop Recommendation"
   ]
  },
  {
   "cell_type": "code",
   "execution_count": 2,
   "id": "e2af4d03",
   "metadata": {
    "id": "e2af4d03"
   },
   "outputs": [],
   "source": [
    "import numpy as np\n",
    "import pandas as pd"
   ]
  },
  {
   "cell_type": "code",
   "execution_count": 3,
   "id": "a276cad4",
   "metadata": {
    "id": "a276cad4"
   },
   "outputs": [],
   "source": [
    "df = pd.read_csv('Crop_recommendationnn.csv')"
   ]
  },
  {
   "cell_type": "code",
   "execution_count": 4,
   "id": "f18cd5cd",
   "metadata": {
    "id": "f18cd5cd",
    "outputId": "d8c73976-9e55-4b0b-c20e-283324f05ef8"
   },
   "outputs": [
    {
     "data": {
      "text/html": [
       "<div>\n",
       "<style scoped>\n",
       "    .dataframe tbody tr th:only-of-type {\n",
       "        vertical-align: middle;\n",
       "    }\n",
       "\n",
       "    .dataframe tbody tr th {\n",
       "        vertical-align: top;\n",
       "    }\n",
       "\n",
       "    .dataframe thead th {\n",
       "        text-align: right;\n",
       "    }\n",
       "</style>\n",
       "<table border=\"1\" class=\"dataframe\">\n",
       "  <thead>\n",
       "    <tr style=\"text-align: right;\">\n",
       "      <th></th>\n",
       "      <th>N</th>\n",
       "      <th>P</th>\n",
       "      <th>K</th>\n",
       "      <th>temperature</th>\n",
       "      <th>humidity</th>\n",
       "      <th>ph</th>\n",
       "      <th>rainfall</th>\n",
       "      <th>label</th>\n",
       "    </tr>\n",
       "  </thead>\n",
       "  <tbody>\n",
       "    <tr>\n",
       "      <th>622</th>\n",
       "      <td>28</td>\n",
       "      <td>45</td>\n",
       "      <td>23</td>\n",
       "      <td>29.650212</td>\n",
       "      <td>80.298683</td>\n",
       "      <td>6.489259</td>\n",
       "      <td>56.762784</td>\n",
       "      <td>mungbean</td>\n",
       "    </tr>\n",
       "    <tr>\n",
       "      <th>2099</th>\n",
       "      <td>84</td>\n",
       "      <td>38</td>\n",
       "      <td>43</td>\n",
       "      <td>26.574217</td>\n",
       "      <td>73.819949</td>\n",
       "      <td>7.261581</td>\n",
       "      <td>159.322307</td>\n",
       "      <td>jute</td>\n",
       "    </tr>\n",
       "  </tbody>\n",
       "</table>\n",
       "</div>"
      ],
      "text/plain": [
       "       N   P   K  temperature   humidity        ph    rainfall     label\n",
       "622   28  45  23    29.650212  80.298683  6.489259   56.762784  mungbean\n",
       "2099  84  38  43    26.574217  73.819949  7.261581  159.322307      jute"
      ]
     },
     "execution_count": 4,
     "metadata": {},
     "output_type": "execute_result"
    }
   ],
   "source": [
    "df.sample(2)"
   ]
  },
  {
   "cell_type": "code",
   "execution_count": 5,
   "id": "7cd2b6c7",
   "metadata": {
    "id": "7cd2b6c7"
   },
   "outputs": [],
   "source": [
    "df_predication = df['label']"
   ]
  },
  {
   "cell_type": "code",
   "execution_count": 6,
   "id": "c4ebd398",
   "metadata": {
    "id": "c4ebd398"
   },
   "outputs": [],
   "source": [
    "k=['N','P','K','temperature','humidity','ph','rainfall']\n",
    "\n",
    "from sklearn.preprocessing import MinMaxScaler\n",
    "scaler = MinMaxScaler()\n",
    "\n",
    "df[k]= scaler.fit_transform(df[k])"
   ]
  },
  {
   "cell_type": "code",
   "execution_count": 7,
   "id": "67681899",
   "metadata": {
    "id": "67681899",
    "outputId": "c8200e4b-fe9b-4595-8d22-aae71e85c5b3"
   },
   "outputs": [
    {
     "data": {
      "text/html": [
       "<div>\n",
       "<style scoped>\n",
       "    .dataframe tbody tr th:only-of-type {\n",
       "        vertical-align: middle;\n",
       "    }\n",
       "\n",
       "    .dataframe tbody tr th {\n",
       "        vertical-align: top;\n",
       "    }\n",
       "\n",
       "    .dataframe thead th {\n",
       "        text-align: right;\n",
       "    }\n",
       "</style>\n",
       "<table border=\"1\" class=\"dataframe\">\n",
       "  <thead>\n",
       "    <tr style=\"text-align: right;\">\n",
       "      <th></th>\n",
       "      <th>N</th>\n",
       "      <th>P</th>\n",
       "      <th>K</th>\n",
       "      <th>temperature</th>\n",
       "      <th>humidity</th>\n",
       "      <th>ph</th>\n",
       "      <th>rainfall</th>\n",
       "      <th>label</th>\n",
       "    </tr>\n",
       "  </thead>\n",
       "  <tbody>\n",
       "    <tr>\n",
       "      <th>0</th>\n",
       "      <td>0.642857</td>\n",
       "      <td>0.264286</td>\n",
       "      <td>0.190</td>\n",
       "      <td>0.345886</td>\n",
       "      <td>0.790267</td>\n",
       "      <td>0.466264</td>\n",
       "      <td>0.656458</td>\n",
       "      <td>rice</td>\n",
       "    </tr>\n",
       "    <tr>\n",
       "      <th>1</th>\n",
       "      <td>0.607143</td>\n",
       "      <td>0.378571</td>\n",
       "      <td>0.180</td>\n",
       "      <td>0.371445</td>\n",
       "      <td>0.770633</td>\n",
       "      <td>0.549480</td>\n",
       "      <td>0.741675</td>\n",
       "      <td>rice</td>\n",
       "    </tr>\n",
       "    <tr>\n",
       "      <th>2</th>\n",
       "      <td>0.428571</td>\n",
       "      <td>0.357143</td>\n",
       "      <td>0.195</td>\n",
       "      <td>0.406854</td>\n",
       "      <td>0.793977</td>\n",
       "      <td>0.674219</td>\n",
       "      <td>0.875710</td>\n",
       "      <td>rice</td>\n",
       "    </tr>\n",
       "    <tr>\n",
       "      <th>3</th>\n",
       "      <td>0.528571</td>\n",
       "      <td>0.214286</td>\n",
       "      <td>0.175</td>\n",
       "      <td>0.506901</td>\n",
       "      <td>0.768751</td>\n",
       "      <td>0.540508</td>\n",
       "      <td>0.799905</td>\n",
       "      <td>rice</td>\n",
       "    </tr>\n",
       "    <tr>\n",
       "      <th>4</th>\n",
       "      <td>0.557143</td>\n",
       "      <td>0.264286</td>\n",
       "      <td>0.185</td>\n",
       "      <td>0.324378</td>\n",
       "      <td>0.785626</td>\n",
       "      <td>0.641291</td>\n",
       "      <td>0.871231</td>\n",
       "      <td>rice</td>\n",
       "    </tr>\n",
       "  </tbody>\n",
       "</table>\n",
       "</div>"
      ],
      "text/plain": [
       "          N         P      K  temperature  humidity        ph  rainfall label\n",
       "0  0.642857  0.264286  0.190     0.345886  0.790267  0.466264  0.656458  rice\n",
       "1  0.607143  0.378571  0.180     0.371445  0.770633  0.549480  0.741675  rice\n",
       "2  0.428571  0.357143  0.195     0.406854  0.793977  0.674219  0.875710  rice\n",
       "3  0.528571  0.214286  0.175     0.506901  0.768751  0.540508  0.799905  rice\n",
       "4  0.557143  0.264286  0.185     0.324378  0.785626  0.641291  0.871231  rice"
      ]
     },
     "execution_count": 7,
     "metadata": {},
     "output_type": "execute_result"
    }
   ],
   "source": [
    "df.head(5)"
   ]
  },
  {
   "cell_type": "code",
   "execution_count": 8,
   "id": "aef9b8e1",
   "metadata": {
    "id": "aef9b8e1",
    "outputId": "85e2d1e8-e9f1-4236-8c02-ff0a534d42b0"
   },
   "outputs": [
    {
     "name": "stdout",
     "output_type": "stream",
     "text": [
      "['rice', 'maize', 'chickpea', 'kidneybeans', 'pigeonpeas', 'mothbeans', 'mungbean', 'blackgram', 'lentil', 'pomegranate', 'banana', 'mango', 'grapes', 'watermelon', 'muskmelon', 'apple', 'orange', 'papaya', 'coconut', 'cotton', 'jute', 'coffee']\n"
     ]
    },
    {
     "data": {
      "text/html": [
       "<div>\n",
       "<style scoped>\n",
       "    .dataframe tbody tr th:only-of-type {\n",
       "        vertical-align: middle;\n",
       "    }\n",
       "\n",
       "    .dataframe tbody tr th {\n",
       "        vertical-align: top;\n",
       "    }\n",
       "\n",
       "    .dataframe thead th {\n",
       "        text-align: right;\n",
       "    }\n",
       "</style>\n",
       "<table border=\"1\" class=\"dataframe\">\n",
       "  <thead>\n",
       "    <tr style=\"text-align: right;\">\n",
       "      <th></th>\n",
       "      <th>N</th>\n",
       "      <th>P</th>\n",
       "      <th>K</th>\n",
       "      <th>temperature</th>\n",
       "      <th>humidity</th>\n",
       "      <th>ph</th>\n",
       "      <th>rainfall</th>\n",
       "      <th>label</th>\n",
       "    </tr>\n",
       "  </thead>\n",
       "  <tbody>\n",
       "    <tr>\n",
       "      <th>0</th>\n",
       "      <td>0.642857</td>\n",
       "      <td>0.264286</td>\n",
       "      <td>0.190</td>\n",
       "      <td>0.345886</td>\n",
       "      <td>0.790267</td>\n",
       "      <td>0.466264</td>\n",
       "      <td>0.656458</td>\n",
       "      <td>20</td>\n",
       "    </tr>\n",
       "    <tr>\n",
       "      <th>1</th>\n",
       "      <td>0.607143</td>\n",
       "      <td>0.378571</td>\n",
       "      <td>0.180</td>\n",
       "      <td>0.371445</td>\n",
       "      <td>0.770633</td>\n",
       "      <td>0.549480</td>\n",
       "      <td>0.741675</td>\n",
       "      <td>20</td>\n",
       "    </tr>\n",
       "    <tr>\n",
       "      <th>2</th>\n",
       "      <td>0.428571</td>\n",
       "      <td>0.357143</td>\n",
       "      <td>0.195</td>\n",
       "      <td>0.406854</td>\n",
       "      <td>0.793977</td>\n",
       "      <td>0.674219</td>\n",
       "      <td>0.875710</td>\n",
       "      <td>20</td>\n",
       "    </tr>\n",
       "    <tr>\n",
       "      <th>3</th>\n",
       "      <td>0.528571</td>\n",
       "      <td>0.214286</td>\n",
       "      <td>0.175</td>\n",
       "      <td>0.506901</td>\n",
       "      <td>0.768751</td>\n",
       "      <td>0.540508</td>\n",
       "      <td>0.799905</td>\n",
       "      <td>20</td>\n",
       "    </tr>\n",
       "    <tr>\n",
       "      <th>4</th>\n",
       "      <td>0.557143</td>\n",
       "      <td>0.264286</td>\n",
       "      <td>0.185</td>\n",
       "      <td>0.324378</td>\n",
       "      <td>0.785626</td>\n",
       "      <td>0.641291</td>\n",
       "      <td>0.871231</td>\n",
       "      <td>20</td>\n",
       "    </tr>\n",
       "  </tbody>\n",
       "</table>\n",
       "</div>"
      ],
      "text/plain": [
       "          N         P      K  temperature  humidity        ph  rainfall  label\n",
       "0  0.642857  0.264286  0.190     0.345886  0.790267  0.466264  0.656458     20\n",
       "1  0.607143  0.378571  0.180     0.371445  0.770633  0.549480  0.741675     20\n",
       "2  0.428571  0.357143  0.195     0.406854  0.793977  0.674219  0.875710     20\n",
       "3  0.528571  0.214286  0.175     0.506901  0.768751  0.540508  0.799905     20\n",
       "4  0.557143  0.264286  0.185     0.324378  0.785626  0.641291  0.871231     20"
      ]
     },
     "execution_count": 8,
     "metadata": {},
     "output_type": "execute_result"
    }
   ],
   "source": [
    "from sklearn import preprocessing\n",
    "encoder = preprocessing.LabelEncoder()\n",
    "\n",
    "qtt=list(df['label'].unique())\n",
    "print(qtt)\n",
    "\n",
    "df['label'] = encoder.fit_transform(df['label'])\n",
    "df.head(5)"
   ]
  },
  {
   "cell_type": "code",
   "execution_count": 9,
   "id": "0386af0c",
   "metadata": {
    "id": "0386af0c"
   },
   "outputs": [],
   "source": [
    "#df1 = df(['label'],axis=1)\n",
    "#df1"
   ]
  },
  {
   "cell_type": "code",
   "execution_count": 10,
   "id": "42d06f1c",
   "metadata": {
    "id": "42d06f1c",
    "outputId": "428e2a12-6dfe-47be-a6f8-3577cecc4d65",
    "scrolled": true
   },
   "outputs": [
    {
     "name": "stdout",
     "output_type": "stream",
     "text": [
      "[20, 11, 3, 9, 18, 13, 14, 2, 10, 19, 1, 12, 7, 21, 15, 0, 16, 17, 4, 6, 8, 5]\n",
      "22\n"
     ]
    }
   ],
   "source": [
    "qt=list(df['label'].unique())\n",
    "print(qt)\n",
    "y_max = max(qt)+1\n",
    "print(y_max)"
   ]
  },
  {
   "cell_type": "code",
   "execution_count": 11,
   "id": "83af7544",
   "metadata": {
    "id": "83af7544"
   },
   "outputs": [],
   "source": [
    "x = df.drop('label',axis=1)\n",
    "y = df['label']"
   ]
  },
  {
   "cell_type": "code",
   "execution_count": 12,
   "id": "83cc9d66",
   "metadata": {
    "id": "83cc9d66",
    "outputId": "f7ef68d5-23be-4924-ca06-1e77bf3d7d8b"
   },
   "outputs": [
    {
     "data": {
      "text/html": [
       "<div>\n",
       "<style scoped>\n",
       "    .dataframe tbody tr th:only-of-type {\n",
       "        vertical-align: middle;\n",
       "    }\n",
       "\n",
       "    .dataframe tbody tr th {\n",
       "        vertical-align: top;\n",
       "    }\n",
       "\n",
       "    .dataframe thead th {\n",
       "        text-align: right;\n",
       "    }\n",
       "</style>\n",
       "<table border=\"1\" class=\"dataframe\">\n",
       "  <thead>\n",
       "    <tr style=\"text-align: right;\">\n",
       "      <th></th>\n",
       "      <th>N</th>\n",
       "      <th>P</th>\n",
       "      <th>K</th>\n",
       "      <th>temperature</th>\n",
       "      <th>humidity</th>\n",
       "      <th>ph</th>\n",
       "      <th>rainfall</th>\n",
       "    </tr>\n",
       "  </thead>\n",
       "  <tbody>\n",
       "    <tr>\n",
       "      <th>1361</th>\n",
       "      <td>0.721429</td>\n",
       "      <td>0.085714</td>\n",
       "      <td>0.250</td>\n",
       "      <td>0.446071</td>\n",
       "      <td>0.850042</td>\n",
       "      <td>0.458257</td>\n",
       "      <td>0.087760</td>\n",
       "    </tr>\n",
       "    <tr>\n",
       "      <th>863</th>\n",
       "      <td>0.200000</td>\n",
       "      <td>0.457143</td>\n",
       "      <td>0.055</td>\n",
       "      <td>0.600992</td>\n",
       "      <td>0.607010</td>\n",
       "      <td>0.473165</td>\n",
       "      <td>0.055633</td>\n",
       "    </tr>\n",
       "  </tbody>\n",
       "</table>\n",
       "</div>"
      ],
      "text/plain": [
       "             N         P      K  temperature  humidity        ph  rainfall\n",
       "1361  0.721429  0.085714  0.250     0.446071  0.850042  0.458257  0.087760\n",
       "863   0.200000  0.457143  0.055     0.600992  0.607010  0.473165  0.055633"
      ]
     },
     "execution_count": 12,
     "metadata": {},
     "output_type": "execute_result"
    }
   ],
   "source": [
    "x.sample(2)"
   ]
  },
  {
   "cell_type": "code",
   "execution_count": 13,
   "id": "d7eec468",
   "metadata": {
    "id": "d7eec468",
    "outputId": "81220523-6da4-44a9-c5eb-5c3a1edd8c99"
   },
   "outputs": [
    {
     "data": {
      "text/plain": [
       "574    13\n",
       "668    14\n",
       "Name: label, dtype: int32"
      ]
     },
     "execution_count": 13,
     "metadata": {},
     "output_type": "execute_result"
    }
   ],
   "source": [
    "y.sample(2)"
   ]
  },
  {
   "cell_type": "code",
   "execution_count": 14,
   "id": "796eec50",
   "metadata": {
    "id": "796eec50"
   },
   "outputs": [],
   "source": [
    "from sklearn.model_selection import train_test_split\n",
    "x_train,x_test,y_train,y_test = train_test_split(x,y,test_size = 0.2,random_state=5)"
   ]
  },
  {
   "cell_type": "code",
   "execution_count": 15,
   "id": "0c287f6b",
   "metadata": {
    "id": "0c287f6b",
    "outputId": "b15acea4-260f-40dd-8328-babb0ee92c91"
   },
   "outputs": [
    {
     "data": {
      "text/plain": [
       "(1760, 7)"
      ]
     },
     "execution_count": 15,
     "metadata": {},
     "output_type": "execute_result"
    }
   ],
   "source": [
    "x_train.shape"
   ]
  },
  {
   "cell_type": "code",
   "execution_count": 16,
   "id": "0ee59a5a",
   "metadata": {
    "id": "0ee59a5a",
    "outputId": "d07f4c1b-7c3b-4856-b198-f8f6725799b1"
   },
   "outputs": [
    {
     "data": {
      "text/plain": [
       "(440, 7)"
      ]
     },
     "execution_count": 16,
     "metadata": {},
     "output_type": "execute_result"
    }
   ],
   "source": [
    "x_test.shape"
   ]
  },
  {
   "cell_type": "code",
   "execution_count": 17,
   "id": "8af5219a",
   "metadata": {
    "id": "8af5219a",
    "outputId": "aaaf8a6e-7d65-4578-837f-8eda5f3e57d8"
   },
   "outputs": [
    {
     "data": {
      "text/plain": [
       "(1760,)"
      ]
     },
     "execution_count": 17,
     "metadata": {},
     "output_type": "execute_result"
    }
   ],
   "source": [
    "y_train.shape"
   ]
  },
  {
   "cell_type": "code",
   "execution_count": 18,
   "id": "a106a83a",
   "metadata": {
    "id": "a106a83a",
    "outputId": "accd29bc-c4ad-439f-8200-6d1e6cb71449"
   },
   "outputs": [
    {
     "data": {
      "text/plain": [
       "(440,)"
      ]
     },
     "execution_count": 18,
     "metadata": {},
     "output_type": "execute_result"
    }
   ],
   "source": [
    "y_test.shape"
   ]
  },
  {
   "cell_type": "code",
   "execution_count": 19,
   "id": "d654628d",
   "metadata": {
    "id": "d654628d"
   },
   "outputs": [],
   "source": [
    "import tensorflow as tf\n",
    "from tensorflow import keras\n",
    "\n",
    "model = keras.Sequential([\n",
    "    keras.layers.Dense(20,input_shape=(7,),activation='relu'),\n",
    "    keras.layers.Dense(10,activation='relu'),\n",
    "    keras.layers.Dense(10,activation='relu'),\n",
    "    \n",
    "    keras.layers.Dense(22,activation = 'softmax')\n",
    "])"
   ]
  },
  {
   "cell_type": "code",
   "execution_count": 20,
   "id": "55cfa096",
   "metadata": {
    "id": "55cfa096",
    "outputId": "c50e9909-f3b8-491f-9f6b-31a31724e928"
   },
   "outputs": [
    {
     "name": "stdout",
     "output_type": "stream",
     "text": [
      "Epoch 1/20\n",
      "55/55 [==============================] - 0s 1ms/step - loss: 3.0730 - accuracy: 0.0460\n",
      "Epoch 2/20\n",
      "55/55 [==============================] - 0s 1ms/step - loss: 3.0231 - accuracy: 0.0909\n",
      "Epoch 3/20\n",
      "55/55 [==============================] - 0s 1ms/step - loss: 2.9361 - accuracy: 0.1364\n",
      "Epoch 4/20\n",
      "55/55 [==============================] - 0s 1ms/step - loss: 2.8062 - accuracy: 0.1562\n",
      "Epoch 5/20\n",
      "55/55 [==============================] - 0s 1ms/step - loss: 2.6576 - accuracy: 0.1841\n",
      "Epoch 6/20\n",
      "55/55 [==============================] - 0s 1ms/step - loss: 2.5050 - accuracy: 0.2074\n",
      "Epoch 7/20\n",
      "55/55 [==============================] - 0s 1ms/step - loss: 2.3358 - accuracy: 0.2205\n",
      "Epoch 8/20\n",
      "55/55 [==============================] - 0s 1ms/step - loss: 2.1446 - accuracy: 0.2830\n",
      "Epoch 9/20\n",
      "55/55 [==============================] - 0s 1ms/step - loss: 1.9309 - accuracy: 0.3619\n",
      "Epoch 10/20\n",
      "55/55 [==============================] - 0s 1ms/step - loss: 1.7106 - accuracy: 0.4318\n",
      "Epoch 11/20\n",
      "55/55 [==============================] - 0s 1ms/step - loss: 1.5036 - accuracy: 0.5136\n",
      "Epoch 12/20\n",
      "55/55 [==============================] - 0s 1ms/step - loss: 1.3311 - accuracy: 0.5994\n",
      "Epoch 13/20\n",
      "55/55 [==============================] - 0s 1ms/step - loss: 1.1899 - accuracy: 0.6500\n",
      "Epoch 14/20\n",
      "55/55 [==============================] - 0s 1ms/step - loss: 1.0766 - accuracy: 0.6722\n",
      "Epoch 15/20\n",
      "55/55 [==============================] - 0s 1ms/step - loss: 0.9892 - accuracy: 0.6938\n",
      "Epoch 16/20\n",
      "55/55 [==============================] - 0s 1ms/step - loss: 0.9157 - accuracy: 0.7216\n",
      "Epoch 17/20\n",
      "55/55 [==============================] - 0s 1ms/step - loss: 0.8563 - accuracy: 0.7295\n",
      "Epoch 18/20\n",
      "55/55 [==============================] - 0s 1ms/step - loss: 0.8078 - accuracy: 0.7398\n",
      "Epoch 19/20\n",
      "55/55 [==============================] - 0s 1ms/step - loss: 0.7629 - accuracy: 0.7517\n",
      "Epoch 20/20\n",
      "55/55 [==============================] - 0s 1ms/step - loss: 0.7269 - accuracy: 0.7619\n"
     ]
    },
    {
     "data": {
      "text/plain": [
       "<keras.callbacks.History at 0x25986c165e0>"
      ]
     },
     "execution_count": 20,
     "metadata": {},
     "output_type": "execute_result"
    }
   ],
   "source": [
    "model.compile(optimizer='adam',loss='sparse_categorical_crossentropy',metrics=['accuracy'])\n",
    "\n",
    "model.fit(x_train,y_train,epochs=20)\n"
   ]
  },
  {
   "cell_type": "code",
   "execution_count": 21,
   "id": "829fbc40",
   "metadata": {
    "id": "829fbc40",
    "outputId": "ca4f8d8c-0be0-4f16-b833-614dce5c7ec8"
   },
   "outputs": [
    {
     "name": "stdout",
     "output_type": "stream",
     "text": [
      "14/14 [==============================] - 0s 2ms/step - loss: 0.7454 - accuracy: 0.7591\n"
     ]
    },
    {
     "data": {
      "text/plain": [
       "[0.7453927993774414, 0.7590909004211426]"
      ]
     },
     "execution_count": 21,
     "metadata": {},
     "output_type": "execute_result"
    }
   ],
   "source": [
    "model.evaluate(x_test,y_test)"
   ]
  },
  {
   "cell_type": "markdown",
   "id": "99e99a29",
   "metadata": {
    "id": "99e99a29"
   },
   "source": [
    "# Predication System"
   ]
  },
  {
   "cell_type": "code",
   "execution_count": 22,
   "id": "186f5622",
   "metadata": {
    "id": "186f5622",
    "outputId": "4f615bad-4f64-4598-bf3f-dfa127ea22fc"
   },
   "outputs": [
    {
     "name": "stdout",
     "output_type": "stream",
     "text": [
      "71,54,16,22.61359953,63.69070564,5.749914421,87.75953857\n"
     ]
    },
    {
     "name": "stderr",
     "output_type": "stream",
     "text": [
      "c:\\python38\\lib\\site-packages\\sklearn\\base.py:445: UserWarning: X does not have valid feature names, but MinMaxScaler was fitted with feature names\n",
      "  warnings.warn(\n"
     ]
    },
    {
     "data": {
      "text/plain": [
       "array([[0.50714286, 0.35      , 0.055     , 0.39563835, 0.57665018,\n",
       "        0.34915147, 0.24267487]])"
      ]
     },
     "execution_count": 22,
     "metadata": {},
     "output_type": "execute_result"
    }
   ],
   "source": [
    "#data=(90,42,43,20.87974371,82.00274423,6.502985292,202.9355362)  #rice\n",
    "#data = (71,54,16,22.61359953,63.69070564,5.749914421,87.75953857)  #maize\n",
    "\n",
    "data = list(map(str,input().split(',')))\n",
    "input_data_as_array = np.asarray(data)\n",
    "\n",
    "data_reshape= input_data_as_array.reshape(1,-1)\n",
    "\n",
    "std_data = scaler.transform(data_reshape)\n",
    "std_data\n",
    "\n"
   ]
  },
  {
   "cell_type": "code",
   "execution_count": 23,
   "id": "986ff005",
   "metadata": {
    "id": "986ff005",
    "outputId": "243d7df1-ffa8-4d5a-9003-7e90a17e2d64"
   },
   "outputs": [
    {
     "name": "stdout",
     "output_type": "stream",
     "text": [
      "1/1 [==============================] - 0s 77ms/step\n"
     ]
    },
    {
     "data": {
      "text/plain": [
       "array([[4.4017453e-03, 5.5874929e-02, 1.0410855e-01, 5.3134738e-03,\n",
       "        3.9950351e-07, 1.4722564e-04, 4.2530600e-02, 3.1494324e-03,\n",
       "        1.0450580e-02, 4.2791307e-04, 5.7037204e-04, 6.1225700e-01,\n",
       "        1.1716507e-03, 6.1212271e-03, 4.7405108e-04, 4.3757535e-03,\n",
       "        1.0087504e-07, 1.4332391e-01, 3.8463066e-03, 1.7473651e-05,\n",
       "        1.9416185e-04, 1.2431367e-03]], dtype=float32)"
      ]
     },
     "execution_count": 23,
     "metadata": {},
     "output_type": "execute_result"
    }
   ],
   "source": [
    "predication = model.predict(std_data)\n",
    "predication"
   ]
  },
  {
   "cell_type": "code",
   "execution_count": 26,
   "id": "496f0af5",
   "metadata": {
    "id": "496f0af5"
   },
   "outputs": [
    {
     "name": "stdout",
     "output_type": "stream",
     "text": [
      "[[4.4017453e-03 5.5874929e-02 1.0410855e-01 5.3134738e-03 3.9950351e-07\n",
      "  1.4722564e-04 4.2530600e-02 3.1494324e-03 1.0450580e-02 4.2791307e-04\n",
      "  5.7037204e-04 6.1225700e-01 1.1716507e-03 6.1212271e-03 4.7405108e-04\n",
      "  4.3757535e-03 1.0087504e-07 1.4332391e-01 3.8463066e-03 1.7473651e-05\n",
      "  1.9416185e-04 1.2431367e-03]]\n",
      "11\n"
     ]
    }
   ],
   "source": [
    "qmm = np.argmax(predication)\n",
    "print(predication)\n",
    "print(qmm)\n",
    "index_number = qt.index(qmm)"
   ]
  },
  {
   "cell_type": "code",
   "execution_count": 29,
   "id": "5d33a2f2",
   "metadata": {
    "id": "5d33a2f2",
    "outputId": "f54fb27a-db5f-415d-e238-f42661842591"
   },
   "outputs": [
    {
     "name": "stdout",
     "output_type": "stream",
     "text": [
      "The crop is rice\n"
     ]
    }
   ],
   "source": [
    "print(\"The crop is\",qtt[index_number])"
   ]
  },
  {
   "cell_type": "code",
   "execution_count": 30,
   "id": "8fe04b0c",
   "metadata": {
    "id": "8fe04b0c",
    "outputId": "72a24de2-ed21-4387-ed98-1661bed36801"
   },
   "outputs": [
    {
     "data": {
      "text/plain": [
       "'maize'"
      ]
     },
     "execution_count": 30,
     "metadata": {},
     "output_type": "execute_result"
    }
   ],
   "source": [
    "df_predication[0]   #for rice\n",
    "df_predication[101]"
   ]
  },
  {
   "cell_type": "code",
   "execution_count": 1,
   "id": "6ab96f0f",
   "metadata": {
    "id": "6ab96f0f"
   },
   "outputs": [
    {
     "name": "stdout",
     "output_type": "stream",
     "text": [
      "User Current Version:- 3.8.10 (tags/v3.8.10:3d8993a, May  3 2021, 11:48:03) [MSC v.1928 64 bit (AMD64)]\n"
     ]
    }
   ],
   "source": [
    "import sys\n",
    "print(\"User Current Version:-\", sys.version)\n"
   ]
  },
  {
   "cell_type": "code",
   "execution_count": null,
   "id": "fee4adb8",
   "metadata": {},
   "outputs": [],
   "source": [
    "def predictCrops(data):\n",
    "    data = list(map(str,input().split(',')))\n",
    "    input_data_as_array = np.asarray(data)\n",
    "    data_reshape= input_data_as_array.reshape(1,-1)\n",
    "    std_data = scaler.transform(data_reshape)\n",
    "    predication = model.predict(std_data)\n",
    "    qmm = np.argmax(predication)\n",
    "    index_number = qt.index(qmm)\n",
    "    return qtt[index_number]"
   ]
  }
 ],
 "metadata": {
  "colab": {
   "name": "Crop_recommendationnn.ipynb",
   "provenance": []
  },
  "kernelspec": {
   "display_name": "Python 3",
   "language": "python",
   "name": "python3"
  },
  "language_info": {
   "codemirror_mode": {
    "name": "ipython",
    "version": 3
   },
   "file_extension": ".py",
   "mimetype": "text/x-python",
   "name": "python",
   "nbconvert_exporter": "python",
   "pygments_lexer": "ipython3",
   "version": "3.8.10"
  }
 },
 "nbformat": 4,
 "nbformat_minor": 5
}
