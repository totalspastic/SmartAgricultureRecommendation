{
 "cells": [
  {
   "cell_type": "markdown",
   "id": "a76eb17f",
   "metadata": {
    "id": "a76eb17f"
   },
   "source": [
    "# Crop Recommendation"
   ]
  },
  {
   "cell_type": "code",
   "execution_count": null,
   "id": "e2af4d03",
   "metadata": {
    "id": "e2af4d03"
   },
   "outputs": [],
   "source": [
    "import numpy as np\n",
    "import pandas as pd"
   ]
  },
  {
   "cell_type": "code",
   "execution_count": null,
   "id": "a276cad4",
   "metadata": {
    "id": "a276cad4"
   },
   "outputs": [],
   "source": [
    "df = pd.read_csv('Crop_recommendationnn.csv')"
   ]
  },
  {
   "cell_type": "code",
   "execution_count": null,
   "id": "f18cd5cd",
   "metadata": {
    "id": "f18cd5cd",
    "outputId": "d8c73976-9e55-4b0b-c20e-283324f05ef8"
   },
   "outputs": [
    {
     "data": {
      "text/html": [
       "<div>\n",
       "<style scoped>\n",
       "    .dataframe tbody tr th:only-of-type {\n",
       "        vertical-align: middle;\n",
       "    }\n",
       "\n",
       "    .dataframe tbody tr th {\n",
       "        vertical-align: top;\n",
       "    }\n",
       "\n",
       "    .dataframe thead th {\n",
       "        text-align: right;\n",
       "    }\n",
       "</style>\n",
       "<table border=\"1\" class=\"dataframe\">\n",
       "  <thead>\n",
       "    <tr style=\"text-align: right;\">\n",
       "      <th></th>\n",
       "      <th>N</th>\n",
       "      <th>P</th>\n",
       "      <th>K</th>\n",
       "      <th>temperature</th>\n",
       "      <th>humidity</th>\n",
       "      <th>ph</th>\n",
       "      <th>rainfall</th>\n",
       "      <th>label</th>\n",
       "    </tr>\n",
       "  </thead>\n",
       "  <tbody>\n",
       "    <tr>\n",
       "      <th>1692</th>\n",
       "      <td>12</td>\n",
       "      <td>8</td>\n",
       "      <td>10</td>\n",
       "      <td>16.148203</td>\n",
       "      <td>91.444803</td>\n",
       "      <td>7.995849</td>\n",
       "      <td>107.428766</td>\n",
       "      <td>orange</td>\n",
       "    </tr>\n",
       "    <tr>\n",
       "      <th>1414</th>\n",
       "      <td>109</td>\n",
       "      <td>26</td>\n",
       "      <td>45</td>\n",
       "      <td>28.279737</td>\n",
       "      <td>90.389712</td>\n",
       "      <td>6.224535</td>\n",
       "      <td>21.589925</td>\n",
       "      <td>muskmelon</td>\n",
       "    </tr>\n",
       "  </tbody>\n",
       "</table>\n",
       "</div>"
      ],
      "text/plain": [
       "        N   P   K  temperature   humidity        ph    rainfall      label\n",
       "1692   12   8  10    16.148203  91.444803  7.995849  107.428766     orange\n",
       "1414  109  26  45    28.279737  90.389712  6.224535   21.589925  muskmelon"
      ]
     },
     "execution_count": 3,
     "metadata": {},
     "output_type": "execute_result"
    }
   ],
   "source": [
    "df.sample(2)"
   ]
  },
  {
   "cell_type": "code",
   "execution_count": null,
   "id": "7cd2b6c7",
   "metadata": {
    "id": "7cd2b6c7"
   },
   "outputs": [],
   "source": [
    "df_predication = df['label']"
   ]
  },
  {
   "cell_type": "code",
   "execution_count": null,
   "id": "c4ebd398",
   "metadata": {
    "id": "c4ebd398"
   },
   "outputs": [],
   "source": [
    "k=['N','P','K','temperature','humidity','ph','rainfall']\n",
    "\n",
    "from sklearn.preprocessing import MinMaxScaler\n",
    "scaler = MinMaxScaler()\n",
    "\n",
    "df[k]= scaler.fit_transform(df[k])"
   ]
  },
  {
   "cell_type": "code",
   "execution_count": null,
   "id": "67681899",
   "metadata": {
    "id": "67681899",
    "outputId": "c8200e4b-fe9b-4595-8d22-aae71e85c5b3"
   },
   "outputs": [
    {
     "data": {
      "text/html": [
       "<div>\n",
       "<style scoped>\n",
       "    .dataframe tbody tr th:only-of-type {\n",
       "        vertical-align: middle;\n",
       "    }\n",
       "\n",
       "    .dataframe tbody tr th {\n",
       "        vertical-align: top;\n",
       "    }\n",
       "\n",
       "    .dataframe thead th {\n",
       "        text-align: right;\n",
       "    }\n",
       "</style>\n",
       "<table border=\"1\" class=\"dataframe\">\n",
       "  <thead>\n",
       "    <tr style=\"text-align: right;\">\n",
       "      <th></th>\n",
       "      <th>N</th>\n",
       "      <th>P</th>\n",
       "      <th>K</th>\n",
       "      <th>temperature</th>\n",
       "      <th>humidity</th>\n",
       "      <th>ph</th>\n",
       "      <th>rainfall</th>\n",
       "      <th>label</th>\n",
       "    </tr>\n",
       "  </thead>\n",
       "  <tbody>\n",
       "    <tr>\n",
       "      <th>0</th>\n",
       "      <td>0.642857</td>\n",
       "      <td>0.264286</td>\n",
       "      <td>0.190</td>\n",
       "      <td>0.345886</td>\n",
       "      <td>0.790267</td>\n",
       "      <td>0.466264</td>\n",
       "      <td>0.656458</td>\n",
       "      <td>rice</td>\n",
       "    </tr>\n",
       "    <tr>\n",
       "      <th>1</th>\n",
       "      <td>0.607143</td>\n",
       "      <td>0.378571</td>\n",
       "      <td>0.180</td>\n",
       "      <td>0.371445</td>\n",
       "      <td>0.770633</td>\n",
       "      <td>0.549480</td>\n",
       "      <td>0.741675</td>\n",
       "      <td>rice</td>\n",
       "    </tr>\n",
       "    <tr>\n",
       "      <th>2</th>\n",
       "      <td>0.428571</td>\n",
       "      <td>0.357143</td>\n",
       "      <td>0.195</td>\n",
       "      <td>0.406854</td>\n",
       "      <td>0.793977</td>\n",
       "      <td>0.674219</td>\n",
       "      <td>0.875710</td>\n",
       "      <td>rice</td>\n",
       "    </tr>\n",
       "    <tr>\n",
       "      <th>3</th>\n",
       "      <td>0.528571</td>\n",
       "      <td>0.214286</td>\n",
       "      <td>0.175</td>\n",
       "      <td>0.506901</td>\n",
       "      <td>0.768751</td>\n",
       "      <td>0.540508</td>\n",
       "      <td>0.799905</td>\n",
       "      <td>rice</td>\n",
       "    </tr>\n",
       "    <tr>\n",
       "      <th>4</th>\n",
       "      <td>0.557143</td>\n",
       "      <td>0.264286</td>\n",
       "      <td>0.185</td>\n",
       "      <td>0.324378</td>\n",
       "      <td>0.785626</td>\n",
       "      <td>0.641291</td>\n",
       "      <td>0.871231</td>\n",
       "      <td>rice</td>\n",
       "    </tr>\n",
       "  </tbody>\n",
       "</table>\n",
       "</div>"
      ],
      "text/plain": [
       "          N         P      K  temperature  humidity        ph  rainfall label\n",
       "0  0.642857  0.264286  0.190     0.345886  0.790267  0.466264  0.656458  rice\n",
       "1  0.607143  0.378571  0.180     0.371445  0.770633  0.549480  0.741675  rice\n",
       "2  0.428571  0.357143  0.195     0.406854  0.793977  0.674219  0.875710  rice\n",
       "3  0.528571  0.214286  0.175     0.506901  0.768751  0.540508  0.799905  rice\n",
       "4  0.557143  0.264286  0.185     0.324378  0.785626  0.641291  0.871231  rice"
      ]
     },
     "execution_count": 6,
     "metadata": {},
     "output_type": "execute_result"
    }
   ],
   "source": [
    "df.head(5)"
   ]
  },
  {
   "cell_type": "code",
   "execution_count": null,
   "id": "aef9b8e1",
   "metadata": {
    "id": "aef9b8e1",
    "outputId": "85e2d1e8-e9f1-4236-8c02-ff0a534d42b0"
   },
   "outputs": [
    {
     "name": "stdout",
     "output_type": "stream",
     "text": [
      "['rice', 'maize', 'chickpea', 'kidneybeans', 'pigeonpeas', 'mothbeans', 'mungbean', 'blackgram', 'lentil', 'pomegranate', 'banana', 'mango', 'grapes', 'watermelon', 'muskmelon', 'apple', 'orange', 'papaya', 'coconut', 'cotton', 'jute', 'coffee']\n"
     ]
    },
    {
     "data": {
      "text/html": [
       "<div>\n",
       "<style scoped>\n",
       "    .dataframe tbody tr th:only-of-type {\n",
       "        vertical-align: middle;\n",
       "    }\n",
       "\n",
       "    .dataframe tbody tr th {\n",
       "        vertical-align: top;\n",
       "    }\n",
       "\n",
       "    .dataframe thead th {\n",
       "        text-align: right;\n",
       "    }\n",
       "</style>\n",
       "<table border=\"1\" class=\"dataframe\">\n",
       "  <thead>\n",
       "    <tr style=\"text-align: right;\">\n",
       "      <th></th>\n",
       "      <th>N</th>\n",
       "      <th>P</th>\n",
       "      <th>K</th>\n",
       "      <th>temperature</th>\n",
       "      <th>humidity</th>\n",
       "      <th>ph</th>\n",
       "      <th>rainfall</th>\n",
       "      <th>label</th>\n",
       "    </tr>\n",
       "  </thead>\n",
       "  <tbody>\n",
       "    <tr>\n",
       "      <th>0</th>\n",
       "      <td>0.642857</td>\n",
       "      <td>0.264286</td>\n",
       "      <td>0.190</td>\n",
       "      <td>0.345886</td>\n",
       "      <td>0.790267</td>\n",
       "      <td>0.466264</td>\n",
       "      <td>0.656458</td>\n",
       "      <td>20</td>\n",
       "    </tr>\n",
       "    <tr>\n",
       "      <th>1</th>\n",
       "      <td>0.607143</td>\n",
       "      <td>0.378571</td>\n",
       "      <td>0.180</td>\n",
       "      <td>0.371445</td>\n",
       "      <td>0.770633</td>\n",
       "      <td>0.549480</td>\n",
       "      <td>0.741675</td>\n",
       "      <td>20</td>\n",
       "    </tr>\n",
       "    <tr>\n",
       "      <th>2</th>\n",
       "      <td>0.428571</td>\n",
       "      <td>0.357143</td>\n",
       "      <td>0.195</td>\n",
       "      <td>0.406854</td>\n",
       "      <td>0.793977</td>\n",
       "      <td>0.674219</td>\n",
       "      <td>0.875710</td>\n",
       "      <td>20</td>\n",
       "    </tr>\n",
       "    <tr>\n",
       "      <th>3</th>\n",
       "      <td>0.528571</td>\n",
       "      <td>0.214286</td>\n",
       "      <td>0.175</td>\n",
       "      <td>0.506901</td>\n",
       "      <td>0.768751</td>\n",
       "      <td>0.540508</td>\n",
       "      <td>0.799905</td>\n",
       "      <td>20</td>\n",
       "    </tr>\n",
       "    <tr>\n",
       "      <th>4</th>\n",
       "      <td>0.557143</td>\n",
       "      <td>0.264286</td>\n",
       "      <td>0.185</td>\n",
       "      <td>0.324378</td>\n",
       "      <td>0.785626</td>\n",
       "      <td>0.641291</td>\n",
       "      <td>0.871231</td>\n",
       "      <td>20</td>\n",
       "    </tr>\n",
       "  </tbody>\n",
       "</table>\n",
       "</div>"
      ],
      "text/plain": [
       "          N         P      K  temperature  humidity        ph  rainfall  label\n",
       "0  0.642857  0.264286  0.190     0.345886  0.790267  0.466264  0.656458     20\n",
       "1  0.607143  0.378571  0.180     0.371445  0.770633  0.549480  0.741675     20\n",
       "2  0.428571  0.357143  0.195     0.406854  0.793977  0.674219  0.875710     20\n",
       "3  0.528571  0.214286  0.175     0.506901  0.768751  0.540508  0.799905     20\n",
       "4  0.557143  0.264286  0.185     0.324378  0.785626  0.641291  0.871231     20"
      ]
     },
     "execution_count": 7,
     "metadata": {},
     "output_type": "execute_result"
    }
   ],
   "source": [
    "from sklearn import preprocessing\n",
    "encoder = preprocessing.LabelEncoder()\n",
    "\n",
    "qtt=list(df['label'].unique())\n",
    "print(qtt)\n",
    "\n",
    "df['label'] = encoder.fit_transform(df['label'])\n",
    "df.head(5)"
   ]
  },
  {
   "cell_type": "code",
   "execution_count": null,
   "id": "0386af0c",
   "metadata": {
    "id": "0386af0c"
   },
   "outputs": [],
   "source": [
    "#df1 = df(['label'],axis=1)\n",
    "#df1"
   ]
  },
  {
   "cell_type": "code",
   "execution_count": null,
   "id": "42d06f1c",
   "metadata": {
    "id": "42d06f1c",
    "outputId": "428e2a12-6dfe-47be-a6f8-3577cecc4d65"
   },
   "outputs": [
    {
     "name": "stdout",
     "output_type": "stream",
     "text": [
      "[20, 11, 3, 9, 18, 13, 14, 2, 10, 19, 1, 12, 7, 21, 15, 0, 16, 17, 4, 6, 8, 5]\n",
      "22\n"
     ]
    }
   ],
   "source": [
    "qt=list(df['label'].unique())\n",
    "print(qt)\n",
    "y_max = max(qt)+1\n",
    "print(y_max)"
   ]
  },
  {
   "cell_type": "code",
   "execution_count": null,
   "id": "83af7544",
   "metadata": {
    "id": "83af7544"
   },
   "outputs": [],
   "source": [
    "x = df.drop('label',axis=1)\n",
    "y = df['label']"
   ]
  },
  {
   "cell_type": "code",
   "execution_count": null,
   "id": "83cc9d66",
   "metadata": {
    "id": "83cc9d66",
    "outputId": "f7ef68d5-23be-4924-ca06-1e77bf3d7d8b"
   },
   "outputs": [
    {
     "data": {
      "text/html": [
       "<div>\n",
       "<style scoped>\n",
       "    .dataframe tbody tr th:only-of-type {\n",
       "        vertical-align: middle;\n",
       "    }\n",
       "\n",
       "    .dataframe tbody tr th {\n",
       "        vertical-align: top;\n",
       "    }\n",
       "\n",
       "    .dataframe thead th {\n",
       "        text-align: right;\n",
       "    }\n",
       "</style>\n",
       "<table border=\"1\" class=\"dataframe\">\n",
       "  <thead>\n",
       "    <tr style=\"text-align: right;\">\n",
       "      <th></th>\n",
       "      <th>N</th>\n",
       "      <th>P</th>\n",
       "      <th>K</th>\n",
       "      <th>temperature</th>\n",
       "      <th>humidity</th>\n",
       "      <th>ph</th>\n",
       "      <th>rainfall</th>\n",
       "    </tr>\n",
       "  </thead>\n",
       "  <tbody>\n",
       "    <tr>\n",
       "      <th>2139</th>\n",
       "      <td>0.807143</td>\n",
       "      <td>0.114286</td>\n",
       "      <td>0.140</td>\n",
       "      <td>0.493453</td>\n",
       "      <td>0.484986</td>\n",
       "      <td>0.586699</td>\n",
       "      <td>0.56293</td>\n",
       "    </tr>\n",
       "    <tr>\n",
       "      <th>2077</th>\n",
       "      <td>0.514286</td>\n",
       "      <td>0.257143</td>\n",
       "      <td>0.155</td>\n",
       "      <td>0.438254</td>\n",
       "      <td>0.773580</td>\n",
       "      <td>0.417240</td>\n",
       "      <td>0.56278</td>\n",
       "    </tr>\n",
       "  </tbody>\n",
       "</table>\n",
       "</div>"
      ],
      "text/plain": [
       "             N         P      K  temperature  humidity        ph  rainfall\n",
       "2139  0.807143  0.114286  0.140     0.493453  0.484986  0.586699   0.56293\n",
       "2077  0.514286  0.257143  0.155     0.438254  0.773580  0.417240   0.56278"
      ]
     },
     "execution_count": 11,
     "metadata": {},
     "output_type": "execute_result"
    }
   ],
   "source": [
    "x.sample(2)"
   ]
  },
  {
   "cell_type": "code",
   "execution_count": null,
   "id": "d7eec468",
   "metadata": {
    "id": "d7eec468",
    "outputId": "81220523-6da4-44a9-c5eb-5c3a1edd8c99"
   },
   "outputs": [
    {
     "data": {
      "text/plain": [
       "1445    15\n",
       "1078     1\n",
       "Name: label, dtype: int32"
      ]
     },
     "execution_count": 12,
     "metadata": {},
     "output_type": "execute_result"
    }
   ],
   "source": [
    "y.sample(2)"
   ]
  },
  {
   "cell_type": "code",
   "execution_count": null,
   "id": "796eec50",
   "metadata": {
    "id": "796eec50"
   },
   "outputs": [],
   "source": [
    "from sklearn.model_selection import train_test_split\n",
    "x_train,x_test,y_train,y_test = train_test_split(x,y,test_size = 0.2,random_state=5)"
   ]
  },
  {
   "cell_type": "code",
   "execution_count": null,
   "id": "0c287f6b",
   "metadata": {
    "id": "0c287f6b",
    "outputId": "b15acea4-260f-40dd-8328-babb0ee92c91"
   },
   "outputs": [
    {
     "data": {
      "text/plain": [
       "(1760, 7)"
      ]
     },
     "execution_count": 14,
     "metadata": {},
     "output_type": "execute_result"
    }
   ],
   "source": [
    "x_train.shape"
   ]
  },
  {
   "cell_type": "code",
   "execution_count": null,
   "id": "0ee59a5a",
   "metadata": {
    "id": "0ee59a5a",
    "outputId": "d07f4c1b-7c3b-4856-b198-f8f6725799b1"
   },
   "outputs": [
    {
     "data": {
      "text/plain": [
       "(440, 7)"
      ]
     },
     "execution_count": 15,
     "metadata": {},
     "output_type": "execute_result"
    }
   ],
   "source": [
    "x_test.shape"
   ]
  },
  {
   "cell_type": "code",
   "execution_count": null,
   "id": "8af5219a",
   "metadata": {
    "id": "8af5219a",
    "outputId": "aaaf8a6e-7d65-4578-837f-8eda5f3e57d8"
   },
   "outputs": [
    {
     "data": {
      "text/plain": [
       "(1760,)"
      ]
     },
     "execution_count": 16,
     "metadata": {},
     "output_type": "execute_result"
    }
   ],
   "source": [
    "y_train.shape"
   ]
  },
  {
   "cell_type": "code",
   "execution_count": null,
   "id": "a106a83a",
   "metadata": {
    "id": "a106a83a",
    "outputId": "accd29bc-c4ad-439f-8200-6d1e6cb71449"
   },
   "outputs": [
    {
     "data": {
      "text/plain": [
       "(440,)"
      ]
     },
     "execution_count": 17,
     "metadata": {},
     "output_type": "execute_result"
    }
   ],
   "source": [
    "y_test.shape"
   ]
  },
  {
   "cell_type": "code",
   "execution_count": null,
   "id": "d654628d",
   "metadata": {
    "id": "d654628d"
   },
   "outputs": [],
   "source": [
    "import tensorflow as tf\n",
    "from tensorflow import keras\n",
    "\n",
    "model = keras.Sequential([\n",
    "    keras.layers.Dense(20,input_shape=(7,),activation='relu'),\n",
    "    keras.layers.Dense(10,activation='relu'),\n",
    "    keras.layers.Dense(10,activation='relu'),\n",
    "    \n",
    "    keras.layers.Dense(22,activation = 'softmax')\n",
    "])"
   ]
  },
  {
   "cell_type": "code",
   "execution_count": null,
   "id": "55cfa096",
   "metadata": {
    "id": "55cfa096",
    "outputId": "c50e9909-f3b8-491f-9f6b-31a31724e928"
   },
   "outputs": [
    {
     "name": "stdout",
     "output_type": "stream",
     "text": [
      "Epoch 1/200\n",
      "55/55 [==============================] - 1s 1ms/step - loss: 3.0727 - accuracy: 0.0580\n",
      "Epoch 2/200\n",
      "55/55 [==============================] - 0s 1ms/step - loss: 3.0117 - accuracy: 0.0841\n",
      "Epoch 3/200\n",
      "55/55 [==============================] - 0s 1ms/step - loss: 2.8939 - accuracy: 0.1074\n",
      "Epoch 4/200\n",
      "55/55 [==============================] - 0s 1ms/step - loss: 2.7375 - accuracy: 0.1222\n",
      "Epoch 5/200\n",
      "55/55 [==============================] - 0s 1ms/step - loss: 2.5677 - accuracy: 0.1358\n",
      "Epoch 6/200\n",
      "55/55 [==============================] - 0s 1ms/step - loss: 2.3996 - accuracy: 0.1614\n",
      "Epoch 7/200\n",
      "55/55 [==============================] - 0s 2ms/step - loss: 2.2451 - accuracy: 0.2261\n",
      "Epoch 8/200\n",
      "55/55 [==============================] - 0s 2ms/step - loss: 2.0974 - accuracy: 0.2761\n",
      "Epoch 9/200\n",
      "55/55 [==============================] - 0s 2ms/step - loss: 1.9594 - accuracy: 0.3472\n",
      "Epoch 10/200\n",
      "55/55 [==============================] - 0s 2ms/step - loss: 1.8310 - accuracy: 0.4153\n",
      "Epoch 11/200\n",
      "55/55 [==============================] - 0s 2ms/step - loss: 1.7101 - accuracy: 0.4591\n",
      "Epoch 12/200\n",
      "55/55 [==============================] - 0s 2ms/step - loss: 1.5946 - accuracy: 0.5125\n",
      "Epoch 13/200\n",
      "55/55 [==============================] - 0s 2ms/step - loss: 1.4922 - accuracy: 0.5312\n",
      "Epoch 14/200\n",
      "55/55 [==============================] - 0s 2ms/step - loss: 1.4150 - accuracy: 0.5290\n",
      "Epoch 15/200\n",
      "55/55 [==============================] - 0s 2ms/step - loss: 1.3294 - accuracy: 0.5756\n",
      "Epoch 16/200\n",
      "55/55 [==============================] - 0s 2ms/step - loss: 1.2684 - accuracy: 0.5807\n",
      "Epoch 17/200\n",
      "55/55 [==============================] - 0s 2ms/step - loss: 1.2089 - accuracy: 0.6028\n",
      "Epoch 18/200\n",
      "55/55 [==============================] - 0s 2ms/step - loss: 1.1673 - accuracy: 0.6068\n",
      "Epoch 19/200\n",
      "55/55 [==============================] - 0s 2ms/step - loss: 1.1242 - accuracy: 0.6170\n",
      "Epoch 20/200\n",
      "55/55 [==============================] - 0s 2ms/step - loss: 1.0855 - accuracy: 0.6261\n",
      "Epoch 21/200\n",
      "55/55 [==============================] - 0s 2ms/step - loss: 1.0518 - accuracy: 0.6227\n",
      "Epoch 22/200\n",
      "55/55 [==============================] - 0s 2ms/step - loss: 1.0181 - accuracy: 0.6534\n",
      "Epoch 23/200\n",
      "55/55 [==============================] - 0s 2ms/step - loss: 0.9847 - accuracy: 0.6693\n",
      "Epoch 24/200\n",
      "55/55 [==============================] - 0s 2ms/step - loss: 0.9559 - accuracy: 0.6784\n",
      "Epoch 25/200\n",
      "55/55 [==============================] - 0s 2ms/step - loss: 0.9381 - accuracy: 0.6659\n",
      "Epoch 26/200\n",
      "55/55 [==============================] - 0s 2ms/step - loss: 0.9103 - accuracy: 0.6892\n",
      "Epoch 27/200\n",
      "55/55 [==============================] - 0s 2ms/step - loss: 0.8778 - accuracy: 0.6881\n",
      "Epoch 28/200\n",
      "55/55 [==============================] - 0s 2ms/step - loss: 0.8549 - accuracy: 0.7068\n",
      "Epoch 29/200\n",
      "55/55 [==============================] - 0s 2ms/step - loss: 0.8346 - accuracy: 0.7063\n",
      "Epoch 30/200\n",
      "55/55 [==============================] - 0s 2ms/step - loss: 0.8147 - accuracy: 0.7233\n",
      "Epoch 31/200\n",
      "55/55 [==============================] - 0s 2ms/step - loss: 0.7931 - accuracy: 0.7233\n",
      "Epoch 32/200\n",
      "55/55 [==============================] - 0s 2ms/step - loss: 0.7769 - accuracy: 0.7330\n",
      "Epoch 33/200\n",
      "55/55 [==============================] - 0s 2ms/step - loss: 0.7625 - accuracy: 0.7386\n",
      "Epoch 34/200\n",
      "55/55 [==============================] - 0s 2ms/step - loss: 0.7501 - accuracy: 0.7239\n",
      "Epoch 35/200\n",
      "55/55 [==============================] - 0s 2ms/step - loss: 0.7323 - accuracy: 0.7517\n",
      "Epoch 36/200\n",
      "55/55 [==============================] - 0s 2ms/step - loss: 0.7189 - accuracy: 0.7506\n",
      "Epoch 37/200\n",
      "55/55 [==============================] - 0s 2ms/step - loss: 0.7084 - accuracy: 0.7483\n",
      "Epoch 38/200\n",
      "55/55 [==============================] - 0s 2ms/step - loss: 0.6997 - accuracy: 0.7551\n",
      "Epoch 39/200\n",
      "55/55 [==============================] - 0s 2ms/step - loss: 0.6839 - accuracy: 0.7568\n",
      "Epoch 40/200\n",
      "55/55 [==============================] - 0s 2ms/step - loss: 0.6702 - accuracy: 0.7744\n",
      "Epoch 41/200\n",
      "55/55 [==============================] - 0s 2ms/step - loss: 0.6680 - accuracy: 0.7602\n",
      "Epoch 42/200\n",
      "55/55 [==============================] - 0s 2ms/step - loss: 0.6588 - accuracy: 0.7699\n",
      "Epoch 43/200\n",
      "55/55 [==============================] - 0s 2ms/step - loss: 0.6392 - accuracy: 0.7807\n",
      "Epoch 44/200\n",
      "55/55 [==============================] - 0s 2ms/step - loss: 0.6326 - accuracy: 0.7722\n",
      "Epoch 45/200\n",
      "55/55 [==============================] - 0s 2ms/step - loss: 0.6341 - accuracy: 0.7653\n",
      "Epoch 46/200\n",
      "55/55 [==============================] - 0s 2ms/step - loss: 0.6221 - accuracy: 0.7744\n",
      "Epoch 47/200\n",
      "55/55 [==============================] - 0s 2ms/step - loss: 0.6118 - accuracy: 0.7710\n",
      "Epoch 48/200\n",
      "55/55 [==============================] - 0s 2ms/step - loss: 0.6150 - accuracy: 0.7778\n",
      "Epoch 49/200\n",
      "55/55 [==============================] - 0s 2ms/step - loss: 0.5997 - accuracy: 0.7858\n",
      "Epoch 50/200\n",
      "55/55 [==============================] - 0s 2ms/step - loss: 0.5933 - accuracy: 0.7824\n",
      "Epoch 51/200\n",
      "55/55 [==============================] - 0s 2ms/step - loss: 0.5842 - accuracy: 0.7886\n",
      "Epoch 52/200\n",
      "55/55 [==============================] - 0s 2ms/step - loss: 0.5755 - accuracy: 0.7898\n",
      "Epoch 53/200\n",
      "55/55 [==============================] - 0s 2ms/step - loss: 0.5734 - accuracy: 0.7955\n",
      "Epoch 54/200\n",
      "55/55 [==============================] - 0s 2ms/step - loss: 0.5640 - accuracy: 0.7932\n",
      "Epoch 55/200\n",
      "55/55 [==============================] - 0s 2ms/step - loss: 0.5578 - accuracy: 0.7898\n",
      "Epoch 56/200\n",
      "55/55 [==============================] - 0s 2ms/step - loss: 0.5482 - accuracy: 0.8000\n",
      "Epoch 57/200\n",
      "55/55 [==============================] - 0s 2ms/step - loss: 0.5520 - accuracy: 0.8006\n",
      "Epoch 58/200\n",
      "55/55 [==============================] - 0s 2ms/step - loss: 0.5414 - accuracy: 0.7989\n",
      "Epoch 59/200\n",
      "55/55 [==============================] - 0s 2ms/step - loss: 0.5357 - accuracy: 0.8068\n",
      "Epoch 60/200\n",
      "55/55 [==============================] - 0s 2ms/step - loss: 0.5306 - accuracy: 0.8017\n",
      "Epoch 61/200\n",
      "55/55 [==============================] - 0s 2ms/step - loss: 0.5216 - accuracy: 0.8097\n",
      "Epoch 62/200\n",
      "55/55 [==============================] - 0s 2ms/step - loss: 0.5184 - accuracy: 0.8074\n",
      "Epoch 63/200\n",
      "55/55 [==============================] - 0s 2ms/step - loss: 0.5080 - accuracy: 0.8040\n",
      "Epoch 64/200\n",
      "55/55 [==============================] - 0s 2ms/step - loss: 0.5055 - accuracy: 0.8068\n",
      "Epoch 65/200\n",
      "55/55 [==============================] - 0s 2ms/step - loss: 0.4978 - accuracy: 0.8227\n",
      "Epoch 66/200\n",
      "55/55 [==============================] - 0s 2ms/step - loss: 0.4899 - accuracy: 0.8233\n",
      "Epoch 67/200\n",
      "55/55 [==============================] - 0s 2ms/step - loss: 0.4866 - accuracy: 0.8222\n",
      "Epoch 68/200\n",
      "55/55 [==============================] - 0s 2ms/step - loss: 0.4801 - accuracy: 0.8290\n",
      "Epoch 69/200\n",
      "55/55 [==============================] - 0s 2ms/step - loss: 0.4753 - accuracy: 0.8307\n",
      "Epoch 70/200\n",
      "55/55 [==============================] - 0s 2ms/step - loss: 0.4691 - accuracy: 0.8307\n",
      "Epoch 71/200\n",
      "55/55 [==============================] - 0s 2ms/step - loss: 0.4615 - accuracy: 0.8369\n",
      "Epoch 72/200\n",
      "55/55 [==============================] - 0s 2ms/step - loss: 0.4568 - accuracy: 0.8358\n",
      "Epoch 73/200\n",
      "55/55 [==============================] - 0s 2ms/step - loss: 0.4512 - accuracy: 0.8455\n",
      "Epoch 74/200\n",
      "55/55 [==============================] - 0s 2ms/step - loss: 0.4396 - accuracy: 0.8511\n",
      "Epoch 75/200\n",
      "55/55 [==============================] - 0s 2ms/step - loss: 0.4441 - accuracy: 0.8403\n",
      "Epoch 76/200\n",
      "55/55 [==============================] - 0s 2ms/step - loss: 0.4375 - accuracy: 0.8500\n",
      "Epoch 77/200\n",
      "55/55 [==============================] - 0s 2ms/step - loss: 0.4313 - accuracy: 0.8506\n",
      "Epoch 78/200\n",
      "55/55 [==============================] - 0s 2ms/step - loss: 0.4202 - accuracy: 0.8580\n",
      "Epoch 79/200\n",
      "55/55 [==============================] - 0s 2ms/step - loss: 0.4190 - accuracy: 0.8585\n",
      "Epoch 80/200\n",
      "55/55 [==============================] - 0s 2ms/step - loss: 0.4128 - accuracy: 0.8608\n",
      "Epoch 81/200\n",
      "55/55 [==============================] - 0s 3ms/step - loss: 0.4070 - accuracy: 0.8614\n",
      "Epoch 82/200\n",
      "55/55 [==============================] - 0s 2ms/step - loss: 0.4085 - accuracy: 0.8597\n",
      "Epoch 83/200\n"
     ]
    },
    {
     "name": "stdout",
     "output_type": "stream",
     "text": [
      "55/55 [==============================] - 0s 2ms/step - loss: 0.3935 - accuracy: 0.8727\n",
      "Epoch 84/200\n",
      "55/55 [==============================] - 0s 2ms/step - loss: 0.3904 - accuracy: 0.8619\n",
      "Epoch 85/200\n",
      "55/55 [==============================] - 0s 2ms/step - loss: 0.3830 - accuracy: 0.8727\n",
      "Epoch 86/200\n",
      "55/55 [==============================] - 0s 2ms/step - loss: 0.3795 - accuracy: 0.8716\n",
      "Epoch 87/200\n",
      "55/55 [==============================] - 0s 2ms/step - loss: 0.3751 - accuracy: 0.8727\n",
      "Epoch 88/200\n",
      "55/55 [==============================] - 0s 2ms/step - loss: 0.3731 - accuracy: 0.8733\n",
      "Epoch 89/200\n",
      "55/55 [==============================] - 0s 3ms/step - loss: 0.3685 - accuracy: 0.8767\n",
      "Epoch 90/200\n",
      "55/55 [==============================] - 0s 2ms/step - loss: 0.3611 - accuracy: 0.8773\n",
      "Epoch 91/200\n",
      "55/55 [==============================] - 0s 2ms/step - loss: 0.3609 - accuracy: 0.8722\n",
      "Epoch 92/200\n",
      "55/55 [==============================] - 0s 1ms/step - loss: 0.3488 - accuracy: 0.8869\n",
      "Epoch 93/200\n",
      "55/55 [==============================] - 0s 1ms/step - loss: 0.3450 - accuracy: 0.8881\n",
      "Epoch 94/200\n",
      "55/55 [==============================] - 0s 1ms/step - loss: 0.3430 - accuracy: 0.8881\n",
      "Epoch 95/200\n",
      "55/55 [==============================] - 0s 2ms/step - loss: 0.3387 - accuracy: 0.8824\n",
      "Epoch 96/200\n",
      "55/55 [==============================] - 0s 2ms/step - loss: 0.3311 - accuracy: 0.8881\n",
      "Epoch 97/200\n",
      "55/55 [==============================] - 0s 2ms/step - loss: 0.3273 - accuracy: 0.8938\n",
      "Epoch 98/200\n",
      "55/55 [==============================] - 0s 2ms/step - loss: 0.3229 - accuracy: 0.8915\n",
      "Epoch 99/200\n",
      "55/55 [==============================] - 0s 2ms/step - loss: 0.3170 - accuracy: 0.9000\n",
      "Epoch 100/200\n",
      "55/55 [==============================] - 0s 2ms/step - loss: 0.3128 - accuracy: 0.9011\n",
      "Epoch 101/200\n",
      "55/55 [==============================] - 0s 2ms/step - loss: 0.3091 - accuracy: 0.8949\n",
      "Epoch 102/200\n",
      "55/55 [==============================] - 0s 2ms/step - loss: 0.3054 - accuracy: 0.9023\n",
      "Epoch 103/200\n",
      "55/55 [==============================] - 0s 2ms/step - loss: 0.2999 - accuracy: 0.8972\n",
      "Epoch 104/200\n",
      "55/55 [==============================] - 0s 2ms/step - loss: 0.2981 - accuracy: 0.9045\n",
      "Epoch 105/200\n",
      "55/55 [==============================] - 0s 2ms/step - loss: 0.2987 - accuracy: 0.9080\n",
      "Epoch 106/200\n",
      "55/55 [==============================] - 0s 2ms/step - loss: 0.2893 - accuracy: 0.9108\n",
      "Epoch 107/200\n",
      "55/55 [==============================] - 0s 2ms/step - loss: 0.2856 - accuracy: 0.9057\n",
      "Epoch 108/200\n",
      "55/55 [==============================] - 0s 2ms/step - loss: 0.2801 - accuracy: 0.9057\n",
      "Epoch 109/200\n",
      "55/55 [==============================] - 0s 2ms/step - loss: 0.2748 - accuracy: 0.9091\n",
      "Epoch 110/200\n",
      "55/55 [==============================] - 0s 2ms/step - loss: 0.2726 - accuracy: 0.9091\n",
      "Epoch 111/200\n",
      "55/55 [==============================] - 0s 2ms/step - loss: 0.2716 - accuracy: 0.9102\n",
      "Epoch 112/200\n",
      "55/55 [==============================] - 0s 2ms/step - loss: 0.2690 - accuracy: 0.9080\n",
      "Epoch 113/200\n",
      "55/55 [==============================] - 0s 2ms/step - loss: 0.2621 - accuracy: 0.9097\n",
      "Epoch 114/200\n",
      "55/55 [==============================] - 0s 2ms/step - loss: 0.2580 - accuracy: 0.9153\n",
      "Epoch 115/200\n",
      "55/55 [==============================] - 0s 1ms/step - loss: 0.2512 - accuracy: 0.9182\n",
      "Epoch 116/200\n",
      "55/55 [==============================] - 0s 1ms/step - loss: 0.2472 - accuracy: 0.9159\n",
      "Epoch 117/200\n",
      "55/55 [==============================] - 0s 1ms/step - loss: 0.2434 - accuracy: 0.9170\n",
      "Epoch 118/200\n",
      "55/55 [==============================] - 0s 2ms/step - loss: 0.2366 - accuracy: 0.9199\n",
      "Epoch 119/200\n",
      "55/55 [==============================] - 0s 2ms/step - loss: 0.2341 - accuracy: 0.9205\n",
      "Epoch 120/200\n",
      "55/55 [==============================] - 0s 2ms/step - loss: 0.2318 - accuracy: 0.9278\n",
      "Epoch 121/200\n",
      "55/55 [==============================] - 0s 2ms/step - loss: 0.2253 - accuracy: 0.9267\n",
      "Epoch 122/200\n",
      "55/55 [==============================] - 0s 2ms/step - loss: 0.2206 - accuracy: 0.9295\n",
      "Epoch 123/200\n",
      "55/55 [==============================] - 0s 2ms/step - loss: 0.2206 - accuracy: 0.9261\n",
      "Epoch 124/200\n",
      "55/55 [==============================] - 0s 2ms/step - loss: 0.2164 - accuracy: 0.9273\n",
      "Epoch 125/200\n",
      "55/55 [==============================] - 0s 2ms/step - loss: 0.2148 - accuracy: 0.9233\n",
      "Epoch 126/200\n",
      "55/55 [==============================] - 0s 2ms/step - loss: 0.2066 - accuracy: 0.9324\n",
      "Epoch 127/200\n",
      "55/55 [==============================] - 0s 2ms/step - loss: 0.2042 - accuracy: 0.9352\n",
      "Epoch 128/200\n",
      "55/55 [==============================] - 0s 2ms/step - loss: 0.2053 - accuracy: 0.9358\n",
      "Epoch 129/200\n",
      "55/55 [==============================] - 0s 2ms/step - loss: 0.1953 - accuracy: 0.9358\n",
      "Epoch 130/200\n",
      "55/55 [==============================] - 0s 2ms/step - loss: 0.1930 - accuracy: 0.9347\n",
      "Epoch 131/200\n",
      "55/55 [==============================] - 0s 2ms/step - loss: 0.1908 - accuracy: 0.9335\n",
      "Epoch 132/200\n",
      "55/55 [==============================] - 0s 2ms/step - loss: 0.1871 - accuracy: 0.9381\n",
      "Epoch 133/200\n",
      "55/55 [==============================] - 0s 2ms/step - loss: 0.1829 - accuracy: 0.9443\n",
      "Epoch 134/200\n",
      "55/55 [==============================] - 0s 2ms/step - loss: 0.1779 - accuracy: 0.9438\n",
      "Epoch 135/200\n",
      "55/55 [==============================] - 0s 2ms/step - loss: 0.1782 - accuracy: 0.9392\n",
      "Epoch 136/200\n",
      "55/55 [==============================] - 0s 2ms/step - loss: 0.1742 - accuracy: 0.9415\n",
      "Epoch 137/200\n",
      "55/55 [==============================] - 0s 2ms/step - loss: 0.1732 - accuracy: 0.9432\n",
      "Epoch 138/200\n",
      "55/55 [==============================] - 0s 2ms/step - loss: 0.1680 - accuracy: 0.9489\n",
      "Epoch 139/200\n",
      "55/55 [==============================] - 0s 2ms/step - loss: 0.1620 - accuracy: 0.9455\n",
      "Epoch 140/200\n",
      "55/55 [==============================] - 0s 2ms/step - loss: 0.1618 - accuracy: 0.9477\n",
      "Epoch 141/200\n",
      "55/55 [==============================] - 0s 2ms/step - loss: 0.1591 - accuracy: 0.9517\n",
      "Epoch 142/200\n",
      "55/55 [==============================] - 0s 2ms/step - loss: 0.1552 - accuracy: 0.9528\n",
      "Epoch 143/200\n",
      "55/55 [==============================] - 0s 2ms/step - loss: 0.1531 - accuracy: 0.9528\n",
      "Epoch 144/200\n",
      "55/55 [==============================] - 0s 2ms/step - loss: 0.1491 - accuracy: 0.9494\n",
      "Epoch 145/200\n",
      "55/55 [==============================] - 0s 2ms/step - loss: 0.1509 - accuracy: 0.9443\n",
      "Epoch 146/200\n",
      "55/55 [==============================] - 0s 2ms/step - loss: 0.1482 - accuracy: 0.9500\n",
      "Epoch 147/200\n",
      "55/55 [==============================] - 0s 2ms/step - loss: 0.1477 - accuracy: 0.9500\n",
      "Epoch 148/200\n",
      "55/55 [==============================] - 0s 2ms/step - loss: 0.1458 - accuracy: 0.9517\n",
      "Epoch 149/200\n",
      "55/55 [==============================] - 0s 2ms/step - loss: 0.1394 - accuracy: 0.9540\n",
      "Epoch 150/200\n",
      "55/55 [==============================] - 0s 2ms/step - loss: 0.1371 - accuracy: 0.9545\n",
      "Epoch 151/200\n",
      "55/55 [==============================] - 0s 2ms/step - loss: 0.1348 - accuracy: 0.9545\n",
      "Epoch 152/200\n",
      "55/55 [==============================] - 0s 2ms/step - loss: 0.1353 - accuracy: 0.9580\n",
      "Epoch 153/200\n",
      "55/55 [==============================] - 0s 2ms/step - loss: 0.1329 - accuracy: 0.9580\n",
      "Epoch 154/200\n",
      "55/55 [==============================] - 0s 2ms/step - loss: 0.1299 - accuracy: 0.9574\n",
      "Epoch 155/200\n",
      "55/55 [==============================] - 0s 2ms/step - loss: 0.1281 - accuracy: 0.9614\n",
      "Epoch 156/200\n",
      "55/55 [==============================] - 0s 2ms/step - loss: 0.1224 - accuracy: 0.9608\n",
      "Epoch 157/200\n",
      "55/55 [==============================] - 0s 2ms/step - loss: 0.1226 - accuracy: 0.9585\n",
      "Epoch 158/200\n",
      "55/55 [==============================] - 0s 2ms/step - loss: 0.1182 - accuracy: 0.9625\n",
      "Epoch 159/200\n",
      "55/55 [==============================] - 0s 2ms/step - loss: 0.1223 - accuracy: 0.9597\n",
      "Epoch 160/200\n",
      "55/55 [==============================] - 0s 2ms/step - loss: 0.1156 - accuracy: 0.9642\n",
      "Epoch 161/200\n",
      "55/55 [==============================] - 0s 2ms/step - loss: 0.1210 - accuracy: 0.9602\n",
      "Epoch 162/200\n",
      "55/55 [==============================] - 0s 2ms/step - loss: 0.1161 - accuracy: 0.9642\n",
      "Epoch 163/200\n",
      "55/55 [==============================] - 0s 2ms/step - loss: 0.1125 - accuracy: 0.9625\n",
      "Epoch 164/200\n",
      "55/55 [==============================] - 0s 2ms/step - loss: 0.1122 - accuracy: 0.9693\n",
      "Epoch 165/200\n",
      "55/55 [==============================] - 0s 2ms/step - loss: 0.1110 - accuracy: 0.9699\n",
      "Epoch 166/200\n",
      "55/55 [==============================] - 0s 2ms/step - loss: 0.1160 - accuracy: 0.9636\n",
      "Epoch 167/200\n",
      "55/55 [==============================] - 0s 2ms/step - loss: 0.1082 - accuracy: 0.9676\n",
      "Epoch 168/200\n",
      "55/55 [==============================] - ETA: 0s - loss: 0.1071 - accuracy: 0.96 - 0s 2ms/step - loss: 0.1089 - accuracy: 0.9631\n",
      "Epoch 169/200\n",
      "55/55 [==============================] - 0s 2ms/step - loss: 0.1053 - accuracy: 0.9659\n",
      "Epoch 170/200\n",
      "55/55 [==============================] - 0s 2ms/step - loss: 0.1041 - accuracy: 0.9727\n",
      "Epoch 171/200\n",
      "55/55 [==============================] - 0s 2ms/step - loss: 0.0991 - accuracy: 0.9688\n",
      "Epoch 172/200\n",
      "55/55 [==============================] - 0s 2ms/step - loss: 0.1007 - accuracy: 0.9693\n",
      "Epoch 173/200\n",
      "55/55 [==============================] - 0s 2ms/step - loss: 0.0989 - accuracy: 0.9665\n",
      "Epoch 174/200\n",
      "55/55 [==============================] - 0s 2ms/step - loss: 0.1018 - accuracy: 0.9682\n",
      "Epoch 175/200\n",
      "55/55 [==============================] - 0s 2ms/step - loss: 0.0962 - accuracy: 0.9716\n",
      "Epoch 176/200\n",
      "55/55 [==============================] - 0s 2ms/step - loss: 0.0971 - accuracy: 0.9693\n",
      "Epoch 177/200\n",
      "55/55 [==============================] - 0s 2ms/step - loss: 0.0964 - accuracy: 0.9688\n",
      "Epoch 178/200\n",
      "55/55 [==============================] - 0s 2ms/step - loss: 0.0947 - accuracy: 0.9705\n",
      "Epoch 179/200\n",
      "55/55 [==============================] - 0s 2ms/step - loss: 0.0956 - accuracy: 0.9693\n",
      "Epoch 180/200\n",
      "55/55 [==============================] - 0s 2ms/step - loss: 0.1019 - accuracy: 0.9653\n",
      "Epoch 181/200\n",
      "55/55 [==============================] - 0s 2ms/step - loss: 0.0906 - accuracy: 0.9750\n",
      "Epoch 182/200\n",
      "55/55 [==============================] - 0s 2ms/step - loss: 0.0916 - accuracy: 0.9722\n",
      "Epoch 183/200\n",
      "55/55 [==============================] - 0s 2ms/step - loss: 0.0872 - accuracy: 0.9705\n",
      "Epoch 184/200\n",
      "55/55 [==============================] - 0s 2ms/step - loss: 0.0884 - accuracy: 0.9693\n",
      "Epoch 185/200\n",
      "55/55 [==============================] - 0s 2ms/step - loss: 0.0859 - accuracy: 0.9744\n",
      "Epoch 186/200\n",
      "55/55 [==============================] - 0s 2ms/step - loss: 0.0859 - accuracy: 0.9716\n",
      "Epoch 187/200\n",
      "55/55 [==============================] - 0s 2ms/step - loss: 0.0846 - accuracy: 0.9739\n",
      "Epoch 188/200\n",
      "55/55 [==============================] - 0s 2ms/step - loss: 0.0838 - accuracy: 0.9761\n",
      "Epoch 189/200\n",
      "55/55 [==============================] - 0s 2ms/step - loss: 0.0832 - accuracy: 0.9744\n",
      "Epoch 190/200\n",
      "55/55 [==============================] - 0s 2ms/step - loss: 0.0850 - accuracy: 0.9733\n",
      "Epoch 191/200\n",
      "55/55 [==============================] - 0s 2ms/step - loss: 0.0877 - accuracy: 0.9710\n",
      "Epoch 192/200\n",
      "55/55 [==============================] - 0s 2ms/step - loss: 0.0821 - accuracy: 0.9756\n",
      "Epoch 193/200\n",
      "55/55 [==============================] - 0s 2ms/step - loss: 0.0790 - accuracy: 0.9733\n",
      "Epoch 194/200\n",
      "55/55 [==============================] - 0s 2ms/step - loss: 0.0783 - accuracy: 0.9750\n",
      "Epoch 195/200\n",
      "55/55 [==============================] - 0s 2ms/step - loss: 0.0790 - accuracy: 0.9756\n",
      "Epoch 196/200\n",
      "55/55 [==============================] - 0s 2ms/step - loss: 0.0767 - accuracy: 0.9761\n",
      "Epoch 197/200\n",
      "55/55 [==============================] - 0s 2ms/step - loss: 0.0770 - accuracy: 0.9801\n",
      "Epoch 198/200\n",
      "55/55 [==============================] - 0s 2ms/step - loss: 0.0746 - accuracy: 0.9761\n",
      "Epoch 199/200\n",
      "55/55 [==============================] - 0s 2ms/step - loss: 0.0747 - accuracy: 0.9773\n",
      "Epoch 200/200\n",
      "55/55 [==============================] - 0s 2ms/step - loss: 0.0772 - accuracy: 0.9744\n"
     ]
    },
    {
     "data": {
      "text/plain": [
       "<tensorflow.python.keras.callbacks.History at 0x24740429d90>"
      ]
     },
     "execution_count": 19,
     "metadata": {},
     "output_type": "execute_result"
    }
   ],
   "source": [
    "model.compile(optimizer='adam',loss='sparse_categorical_crossentropy',metrics=['accuracy'])\n",
    "\n",
    "model.fit(x_train,y_train,epochs=200)\n"
   ]
  },
  {
   "cell_type": "code",
   "execution_count": null,
   "id": "829fbc40",
   "metadata": {
    "id": "829fbc40",
    "outputId": "ca4f8d8c-0be0-4f16-b833-614dce5c7ec8"
   },
   "outputs": [
    {
     "name": "stdout",
     "output_type": "stream",
     "text": [
      "14/14 [==============================] - 0s 1ms/step - loss: 0.0854 - accuracy: 0.9795\n"
     ]
    },
    {
     "data": {
      "text/plain": [
       "[0.08539070934057236, 0.9795454740524292]"
      ]
     },
     "execution_count": 20,
     "metadata": {},
     "output_type": "execute_result"
    }
   ],
   "source": [
    "model.evaluate(x_test,y_test)"
   ]
  },
  {
   "cell_type": "markdown",
   "id": "99e99a29",
   "metadata": {
    "id": "99e99a29"
   },
   "source": [
    "# Predication System"
   ]
  },
  {
   "cell_type": "code",
   "execution_count": null,
   "id": "186f5622",
   "metadata": {
    "id": "186f5622",
    "outputId": "4f615bad-4f64-4598-bf3f-dfa127ea22fc"
   },
   "outputs": [
    {
     "name": "stdout",
     "output_type": "stream",
     "text": [
      "71,54,16,22.61,63.69,5.74,87.75\n"
     ]
    },
    {
     "name": "stderr",
     "output_type": "stream",
     "text": [
      "c:\\users\\asus\\desktop\\folders\\python\\python39\\lib\\site-packages\\sklearn\\base.py:445: UserWarning: X does not have valid feature names, but MinMaxScaler was fitted with feature names\n",
      "  warnings.warn(\n"
     ]
    },
    {
     "data": {
      "text/plain": [
       "array([[0.50714286, 0.35      , 0.055     , 0.39553507, 0.57664195,\n",
       "        0.34760965, 0.2426406 ]])"
      ]
     },
     "execution_count": 37,
     "metadata": {},
     "output_type": "execute_result"
    }
   ],
   "source": [
    "#data=(90,42,43,20.87974371,82.00274423,6.502985292,202.9355362)  #rice\n",
    "#data = (71,54,16,22.61359953,63.69070564,5.749914421,87.75953857)  #maize\n",
    "\n",
    "data = list(map(str,input().split(',')))\n",
    "input_data_as_array = np.asarray(data)\n",
    "\n",
    "data_reshape= input_data_as_array.reshape(1,-1)\n",
    "\n",
    "std_data = scaler.transform(data_reshape)\n",
    "std_data\n",
    "\n"
   ]
  },
  {
   "cell_type": "code",
   "execution_count": null,
   "id": "986ff005",
   "metadata": {
    "id": "986ff005",
    "outputId": "243d7df1-ffa8-4d5a-9003-7e90a17e2d64"
   },
   "outputs": [
    {
     "data": {
      "text/plain": [
       "array([[7.9061347e-17, 3.1290427e-05, 3.0350668e-05, 4.9346214e-17,\n",
       "        1.5362273e-17, 2.9878242e-07, 2.0797175e-07, 2.9680374e-28,\n",
       "        3.2492124e-03, 8.5004864e-22, 3.5369790e-15, 9.9662375e-01,\n",
       "        1.0239272e-07, 1.0473584e-13, 3.5756058e-09, 4.4304006e-28,\n",
       "        7.2280008e-11, 1.4258993e-06, 6.3373176e-05, 1.5958964e-15,\n",
       "        7.9117788e-09, 8.6156471e-14]], dtype=float32)"
      ]
     },
     "execution_count": 38,
     "metadata": {},
     "output_type": "execute_result"
    }
   ],
   "source": [
    "predication = model.predict(std_data)\n",
    "predication"
   ]
  },
  {
   "cell_type": "code",
   "execution_count": null,
   "id": "496f0af5",
   "metadata": {
    "id": "496f0af5"
   },
   "outputs": [],
   "source": [
    "qmm = np.argmax(predication)\n",
    "index_number = qt.index(qmm)"
   ]
  },
  {
   "cell_type": "code",
   "execution_count": null,
   "id": "5d33a2f2",
   "metadata": {
    "id": "5d33a2f2",
    "outputId": "f54fb27a-db5f-415d-e238-f42661842591"
   },
   "outputs": [
    {
     "name": "stdout",
     "output_type": "stream",
     "text": [
      "The crop is maize\n"
     ]
    }
   ],
   "source": [
    "print(\"The crop is\",qtt[index_number])"
   ]
  },
  {
   "cell_type": "code",
   "execution_count": null,
   "id": "8fe04b0c",
   "metadata": {
    "id": "8fe04b0c",
    "outputId": "72a24de2-ed21-4387-ed98-1661bed36801"
   },
   "outputs": [
    {
     "data": {
      "text/plain": [
       "'maize'"
      ]
     },
     "execution_count": 41,
     "metadata": {},
     "output_type": "execute_result"
    }
   ],
   "source": [
    "df_predication[0]   #for rice\n",
    "df_predication[101]"
   ]
  },
  {
   "cell_type": "code",
   "execution_count": null,
   "id": "6ab96f0f",
   "metadata": {
    "id": "6ab96f0f"
   },
   "outputs": [],
   "source": []
  }
 ],
 "metadata": {
  "colab": {
   "name": "Crop_recommendationnn.ipynb",
   "provenance": []
  },
  "kernelspec": {
   "display_name": "Python 3",
   "language": "python",
   "name": "python3"
  },
  "language_info": {
   "codemirror_mode": {
    "name": "ipython",
    "version": 3
   },
   "file_extension": ".py",
   "mimetype": "text/x-python",
   "name": "python",
   "nbconvert_exporter": "python",
   "pygments_lexer": "ipython3",
   "version": "3.8.10"
  }
 },
 "nbformat": 4,
 "nbformat_minor": 5
}
