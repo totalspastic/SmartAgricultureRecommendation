{
 "cells": [
  {
   "cell_type": "markdown",
   "id": "a76eb17f",
   "metadata": {
    "id": "a76eb17f"
   },
   "source": [
    "# Crop Recommendation"
   ]
  },
  {
   "cell_type": "code",
   "execution_count": 1,
   "id": "e2af4d03",
   "metadata": {
    "id": "e2af4d03"
   },
   "outputs": [],
   "source": [
    "import numpy as np\n",
    "import pandas as pd"
   ]
  },
  {
   "cell_type": "code",
   "execution_count": 2,
   "id": "a276cad4",
   "metadata": {
    "id": "a276cad4"
   },
   "outputs": [],
   "source": [
    "df = pd.read_csv('Crop_recommendationnn.csv')"
   ]
  },
  {
   "cell_type": "code",
   "execution_count": 3,
   "id": "f18cd5cd",
   "metadata": {
    "id": "f18cd5cd",
    "outputId": "d8c73976-9e55-4b0b-c20e-283324f05ef8"
   },
   "outputs": [
    {
     "data": {
      "text/html": [
       "<div>\n",
       "<style scoped>\n",
       "    .dataframe tbody tr th:only-of-type {\n",
       "        vertical-align: middle;\n",
       "    }\n",
       "\n",
       "    .dataframe tbody tr th {\n",
       "        vertical-align: top;\n",
       "    }\n",
       "\n",
       "    .dataframe thead th {\n",
       "        text-align: right;\n",
       "    }\n",
       "</style>\n",
       "<table border=\"1\" class=\"dataframe\">\n",
       "  <thead>\n",
       "    <tr style=\"text-align: right;\">\n",
       "      <th></th>\n",
       "      <th>N</th>\n",
       "      <th>P</th>\n",
       "      <th>K</th>\n",
       "      <th>temperature</th>\n",
       "      <th>humidity</th>\n",
       "      <th>ph</th>\n",
       "      <th>rainfall</th>\n",
       "      <th>label</th>\n",
       "    </tr>\n",
       "  </thead>\n",
       "  <tbody>\n",
       "    <tr>\n",
       "      <th>214</th>\n",
       "      <td>27</td>\n",
       "      <td>62</td>\n",
       "      <td>77</td>\n",
       "      <td>18.197370</td>\n",
       "      <td>14.710705</td>\n",
       "      <td>6.576416</td>\n",
       "      <td>70.181852</td>\n",
       "      <td>chickpea</td>\n",
       "    </tr>\n",
       "    <tr>\n",
       "      <th>2134</th>\n",
       "      <td>86</td>\n",
       "      <td>31</td>\n",
       "      <td>35</td>\n",
       "      <td>27.012073</td>\n",
       "      <td>60.766453</td>\n",
       "      <td>6.485761</td>\n",
       "      <td>191.450893</td>\n",
       "      <td>coffee</td>\n",
       "    </tr>\n",
       "  </tbody>\n",
       "</table>\n",
       "</div>"
      ],
      "text/plain": [
       "       N   P   K  temperature   humidity        ph    rainfall     label\n",
       "214   27  62  77    18.197370  14.710705  6.576416   70.181852  chickpea\n",
       "2134  86  31  35    27.012073  60.766453  6.485761  191.450893    coffee"
      ]
     },
     "execution_count": 3,
     "metadata": {},
     "output_type": "execute_result"
    }
   ],
   "source": [
    "df.sample(2)"
   ]
  },
  {
   "cell_type": "code",
   "execution_count": 4,
   "id": "7cd2b6c7",
   "metadata": {
    "id": "7cd2b6c7"
   },
   "outputs": [],
   "source": [
    "df_predication = df['label']"
   ]
  },
  {
   "cell_type": "code",
   "execution_count": 5,
   "id": "c4ebd398",
   "metadata": {
    "id": "c4ebd398"
   },
   "outputs": [],
   "source": [
    "k=['N','P','K','temperature','humidity','ph','rainfall']\n",
    "\n",
    "from sklearn.preprocessing import MinMaxScaler\n",
    "scaler = MinMaxScaler()\n",
    "\n",
    "df[k]= scaler.fit_transform(df[k])"
   ]
  },
  {
   "cell_type": "code",
   "execution_count": 6,
   "id": "67681899",
   "metadata": {
    "id": "67681899",
    "outputId": "c8200e4b-fe9b-4595-8d22-aae71e85c5b3"
   },
   "outputs": [
    {
     "data": {
      "text/html": [
       "<div>\n",
       "<style scoped>\n",
       "    .dataframe tbody tr th:only-of-type {\n",
       "        vertical-align: middle;\n",
       "    }\n",
       "\n",
       "    .dataframe tbody tr th {\n",
       "        vertical-align: top;\n",
       "    }\n",
       "\n",
       "    .dataframe thead th {\n",
       "        text-align: right;\n",
       "    }\n",
       "</style>\n",
       "<table border=\"1\" class=\"dataframe\">\n",
       "  <thead>\n",
       "    <tr style=\"text-align: right;\">\n",
       "      <th></th>\n",
       "      <th>N</th>\n",
       "      <th>P</th>\n",
       "      <th>K</th>\n",
       "      <th>temperature</th>\n",
       "      <th>humidity</th>\n",
       "      <th>ph</th>\n",
       "      <th>rainfall</th>\n",
       "      <th>label</th>\n",
       "    </tr>\n",
       "  </thead>\n",
       "  <tbody>\n",
       "    <tr>\n",
       "      <th>0</th>\n",
       "      <td>0.642857</td>\n",
       "      <td>0.264286</td>\n",
       "      <td>0.190</td>\n",
       "      <td>0.345886</td>\n",
       "      <td>0.790267</td>\n",
       "      <td>0.466264</td>\n",
       "      <td>0.656458</td>\n",
       "      <td>rice</td>\n",
       "    </tr>\n",
       "    <tr>\n",
       "      <th>1</th>\n",
       "      <td>0.607143</td>\n",
       "      <td>0.378571</td>\n",
       "      <td>0.180</td>\n",
       "      <td>0.371445</td>\n",
       "      <td>0.770633</td>\n",
       "      <td>0.549480</td>\n",
       "      <td>0.741675</td>\n",
       "      <td>rice</td>\n",
       "    </tr>\n",
       "    <tr>\n",
       "      <th>2</th>\n",
       "      <td>0.428571</td>\n",
       "      <td>0.357143</td>\n",
       "      <td>0.195</td>\n",
       "      <td>0.406854</td>\n",
       "      <td>0.793977</td>\n",
       "      <td>0.674219</td>\n",
       "      <td>0.875710</td>\n",
       "      <td>rice</td>\n",
       "    </tr>\n",
       "    <tr>\n",
       "      <th>3</th>\n",
       "      <td>0.528571</td>\n",
       "      <td>0.214286</td>\n",
       "      <td>0.175</td>\n",
       "      <td>0.506901</td>\n",
       "      <td>0.768751</td>\n",
       "      <td>0.540508</td>\n",
       "      <td>0.799905</td>\n",
       "      <td>rice</td>\n",
       "    </tr>\n",
       "    <tr>\n",
       "      <th>4</th>\n",
       "      <td>0.557143</td>\n",
       "      <td>0.264286</td>\n",
       "      <td>0.185</td>\n",
       "      <td>0.324378</td>\n",
       "      <td>0.785626</td>\n",
       "      <td>0.641291</td>\n",
       "      <td>0.871231</td>\n",
       "      <td>rice</td>\n",
       "    </tr>\n",
       "  </tbody>\n",
       "</table>\n",
       "</div>"
      ],
      "text/plain": [
       "          N         P      K  temperature  humidity        ph  rainfall label\n",
       "0  0.642857  0.264286  0.190     0.345886  0.790267  0.466264  0.656458  rice\n",
       "1  0.607143  0.378571  0.180     0.371445  0.770633  0.549480  0.741675  rice\n",
       "2  0.428571  0.357143  0.195     0.406854  0.793977  0.674219  0.875710  rice\n",
       "3  0.528571  0.214286  0.175     0.506901  0.768751  0.540508  0.799905  rice\n",
       "4  0.557143  0.264286  0.185     0.324378  0.785626  0.641291  0.871231  rice"
      ]
     },
     "execution_count": 6,
     "metadata": {},
     "output_type": "execute_result"
    }
   ],
   "source": [
    "df.head(5)"
   ]
  },
  {
   "cell_type": "code",
   "execution_count": 7,
   "id": "aef9b8e1",
   "metadata": {
    "id": "aef9b8e1",
    "outputId": "85e2d1e8-e9f1-4236-8c02-ff0a534d42b0"
   },
   "outputs": [
    {
     "name": "stdout",
     "output_type": "stream",
     "text": [
      "['rice', 'maize', 'chickpea', 'kidneybeans', 'pigeonpeas', 'mothbeans', 'mungbean', 'blackgram', 'lentil', 'pomegranate', 'banana', 'mango', 'grapes', 'watermelon', 'muskmelon', 'apple', 'orange', 'papaya', 'coconut', 'cotton', 'jute', 'coffee']\n"
     ]
    },
    {
     "data": {
      "text/html": [
       "<div>\n",
       "<style scoped>\n",
       "    .dataframe tbody tr th:only-of-type {\n",
       "        vertical-align: middle;\n",
       "    }\n",
       "\n",
       "    .dataframe tbody tr th {\n",
       "        vertical-align: top;\n",
       "    }\n",
       "\n",
       "    .dataframe thead th {\n",
       "        text-align: right;\n",
       "    }\n",
       "</style>\n",
       "<table border=\"1\" class=\"dataframe\">\n",
       "  <thead>\n",
       "    <tr style=\"text-align: right;\">\n",
       "      <th></th>\n",
       "      <th>N</th>\n",
       "      <th>P</th>\n",
       "      <th>K</th>\n",
       "      <th>temperature</th>\n",
       "      <th>humidity</th>\n",
       "      <th>ph</th>\n",
       "      <th>rainfall</th>\n",
       "      <th>label</th>\n",
       "    </tr>\n",
       "  </thead>\n",
       "  <tbody>\n",
       "    <tr>\n",
       "      <th>0</th>\n",
       "      <td>0.642857</td>\n",
       "      <td>0.264286</td>\n",
       "      <td>0.190</td>\n",
       "      <td>0.345886</td>\n",
       "      <td>0.790267</td>\n",
       "      <td>0.466264</td>\n",
       "      <td>0.656458</td>\n",
       "      <td>20</td>\n",
       "    </tr>\n",
       "    <tr>\n",
       "      <th>1</th>\n",
       "      <td>0.607143</td>\n",
       "      <td>0.378571</td>\n",
       "      <td>0.180</td>\n",
       "      <td>0.371445</td>\n",
       "      <td>0.770633</td>\n",
       "      <td>0.549480</td>\n",
       "      <td>0.741675</td>\n",
       "      <td>20</td>\n",
       "    </tr>\n",
       "    <tr>\n",
       "      <th>2</th>\n",
       "      <td>0.428571</td>\n",
       "      <td>0.357143</td>\n",
       "      <td>0.195</td>\n",
       "      <td>0.406854</td>\n",
       "      <td>0.793977</td>\n",
       "      <td>0.674219</td>\n",
       "      <td>0.875710</td>\n",
       "      <td>20</td>\n",
       "    </tr>\n",
       "    <tr>\n",
       "      <th>3</th>\n",
       "      <td>0.528571</td>\n",
       "      <td>0.214286</td>\n",
       "      <td>0.175</td>\n",
       "      <td>0.506901</td>\n",
       "      <td>0.768751</td>\n",
       "      <td>0.540508</td>\n",
       "      <td>0.799905</td>\n",
       "      <td>20</td>\n",
       "    </tr>\n",
       "    <tr>\n",
       "      <th>4</th>\n",
       "      <td>0.557143</td>\n",
       "      <td>0.264286</td>\n",
       "      <td>0.185</td>\n",
       "      <td>0.324378</td>\n",
       "      <td>0.785626</td>\n",
       "      <td>0.641291</td>\n",
       "      <td>0.871231</td>\n",
       "      <td>20</td>\n",
       "    </tr>\n",
       "  </tbody>\n",
       "</table>\n",
       "</div>"
      ],
      "text/plain": [
       "          N         P      K  temperature  humidity        ph  rainfall  label\n",
       "0  0.642857  0.264286  0.190     0.345886  0.790267  0.466264  0.656458     20\n",
       "1  0.607143  0.378571  0.180     0.371445  0.770633  0.549480  0.741675     20\n",
       "2  0.428571  0.357143  0.195     0.406854  0.793977  0.674219  0.875710     20\n",
       "3  0.528571  0.214286  0.175     0.506901  0.768751  0.540508  0.799905     20\n",
       "4  0.557143  0.264286  0.185     0.324378  0.785626  0.641291  0.871231     20"
      ]
     },
     "execution_count": 7,
     "metadata": {},
     "output_type": "execute_result"
    }
   ],
   "source": [
    "from sklearn import preprocessing\n",
    "encoder = preprocessing.LabelEncoder()\n",
    "\n",
    "qtt=list(df['label'].unique())\n",
    "print(qtt)\n",
    "\n",
    "df['label'] = encoder.fit_transform(df['label'])\n",
    "df.head(5)"
   ]
  },
  {
   "cell_type": "code",
   "execution_count": 8,
   "id": "0386af0c",
   "metadata": {
    "id": "0386af0c"
   },
   "outputs": [],
   "source": [
    "#df1 = df(['label'],axis=1)\n",
    "#df1"
   ]
  },
  {
   "cell_type": "code",
   "execution_count": 9,
   "id": "42d06f1c",
   "metadata": {
    "id": "42d06f1c",
    "outputId": "428e2a12-6dfe-47be-a6f8-3577cecc4d65",
    "scrolled": true
   },
   "outputs": [
    {
     "name": "stdout",
     "output_type": "stream",
     "text": [
      "[20, 11, 3, 9, 18, 13, 14, 2, 10, 19, 1, 12, 7, 21, 15, 0, 16, 17, 4, 6, 8, 5]\n",
      "22\n"
     ]
    }
   ],
   "source": [
    "qt=list(df['label'].unique())\n",
    "print(qt)\n",
    "y_max = max(qt)+1\n",
    "print(y_max)"
   ]
  },
  {
   "cell_type": "code",
   "execution_count": 10,
   "id": "83af7544",
   "metadata": {
    "id": "83af7544"
   },
   "outputs": [],
   "source": [
    "x = df.drop('label',axis=1)\n",
    "y = df['label']"
   ]
  },
  {
   "cell_type": "code",
   "execution_count": 11,
   "id": "83cc9d66",
   "metadata": {
    "id": "83cc9d66",
    "outputId": "f7ef68d5-23be-4924-ca06-1e77bf3d7d8b"
   },
   "outputs": [
    {
     "data": {
      "text/html": [
       "<div>\n",
       "<style scoped>\n",
       "    .dataframe tbody tr th:only-of-type {\n",
       "        vertical-align: middle;\n",
       "    }\n",
       "\n",
       "    .dataframe tbody tr th {\n",
       "        vertical-align: top;\n",
       "    }\n",
       "\n",
       "    .dataframe thead th {\n",
       "        text-align: right;\n",
       "    }\n",
       "</style>\n",
       "<table border=\"1\" class=\"dataframe\">\n",
       "  <thead>\n",
       "    <tr style=\"text-align: right;\">\n",
       "      <th></th>\n",
       "      <th>N</th>\n",
       "      <th>P</th>\n",
       "      <th>K</th>\n",
       "      <th>temperature</th>\n",
       "      <th>humidity</th>\n",
       "      <th>ph</th>\n",
       "      <th>rainfall</th>\n",
       "    </tr>\n",
       "  </thead>\n",
       "  <tbody>\n",
       "    <tr>\n",
       "      <th>10</th>\n",
       "      <td>0.650000</td>\n",
       "      <td>0.342857</td>\n",
       "      <td>0.175</td>\n",
       "      <td>0.507938</td>\n",
       "      <td>0.783440</td>\n",
       "      <td>0.292584</td>\n",
       "      <td>0.878048</td>\n",
       "    </tr>\n",
       "    <tr>\n",
       "      <th>1369</th>\n",
       "      <td>0.807143</td>\n",
       "      <td>0.100000</td>\n",
       "      <td>0.205</td>\n",
       "      <td>0.476128</td>\n",
       "      <td>0.779984</td>\n",
       "      <td>0.432580</td>\n",
       "      <td>0.105306</td>\n",
       "    </tr>\n",
       "  </tbody>\n",
       "</table>\n",
       "</div>"
      ],
      "text/plain": [
       "             N         P      K  temperature  humidity        ph  rainfall\n",
       "10    0.650000  0.342857  0.175     0.507938  0.783440  0.292584  0.878048\n",
       "1369  0.807143  0.100000  0.205     0.476128  0.779984  0.432580  0.105306"
      ]
     },
     "execution_count": 11,
     "metadata": {},
     "output_type": "execute_result"
    }
   ],
   "source": [
    "x.sample(2)"
   ]
  },
  {
   "cell_type": "code",
   "execution_count": 12,
   "id": "d7eec468",
   "metadata": {
    "id": "d7eec468",
    "outputId": "81220523-6da4-44a9-c5eb-5c3a1edd8c99"
   },
   "outputs": [
    {
     "data": {
      "text/plain": [
       "341     9\n",
       "1280    7\n",
       "Name: label, dtype: int32"
      ]
     },
     "execution_count": 12,
     "metadata": {},
     "output_type": "execute_result"
    }
   ],
   "source": [
    "y.sample(2)"
   ]
  },
  {
   "cell_type": "code",
   "execution_count": 13,
   "id": "796eec50",
   "metadata": {
    "id": "796eec50"
   },
   "outputs": [],
   "source": [
    "from sklearn.model_selection import train_test_split\n",
    "x_train,x_test,y_train,y_test = train_test_split(x,y,test_size = 0.2,random_state=5)"
   ]
  },
  {
   "cell_type": "code",
   "execution_count": 14,
   "id": "0c287f6b",
   "metadata": {
    "id": "0c287f6b",
    "outputId": "b15acea4-260f-40dd-8328-babb0ee92c91"
   },
   "outputs": [
    {
     "data": {
      "text/plain": [
       "(1760, 7)"
      ]
     },
     "execution_count": 14,
     "metadata": {},
     "output_type": "execute_result"
    }
   ],
   "source": [
    "x_train.shape"
   ]
  },
  {
   "cell_type": "code",
   "execution_count": 15,
   "id": "0ee59a5a",
   "metadata": {
    "id": "0ee59a5a",
    "outputId": "d07f4c1b-7c3b-4856-b198-f8f6725799b1"
   },
   "outputs": [
    {
     "data": {
      "text/plain": [
       "(440, 7)"
      ]
     },
     "execution_count": 15,
     "metadata": {},
     "output_type": "execute_result"
    }
   ],
   "source": [
    "x_test.shape"
   ]
  },
  {
   "cell_type": "code",
   "execution_count": 16,
   "id": "8af5219a",
   "metadata": {
    "id": "8af5219a",
    "outputId": "aaaf8a6e-7d65-4578-837f-8eda5f3e57d8"
   },
   "outputs": [
    {
     "data": {
      "text/plain": [
       "(1760,)"
      ]
     },
     "execution_count": 16,
     "metadata": {},
     "output_type": "execute_result"
    }
   ],
   "source": [
    "y_train.shape"
   ]
  },
  {
   "cell_type": "code",
   "execution_count": 17,
   "id": "a106a83a",
   "metadata": {
    "id": "a106a83a",
    "outputId": "accd29bc-c4ad-439f-8200-6d1e6cb71449"
   },
   "outputs": [
    {
     "data": {
      "text/plain": [
       "(440,)"
      ]
     },
     "execution_count": 17,
     "metadata": {},
     "output_type": "execute_result"
    }
   ],
   "source": [
    "y_test.shape"
   ]
  },
  {
   "cell_type": "code",
   "execution_count": 18,
   "id": "d654628d",
   "metadata": {
    "id": "d654628d"
   },
   "outputs": [],
   "source": [
    "import tensorflow as tf\n",
    "from tensorflow import keras\n",
    "\n",
    "model = keras.Sequential([\n",
    "    keras.layers.Dense(20,input_shape=(7,),activation='relu'),\n",
    "    keras.layers.Dense(10,activation='relu'),\n",
    "    keras.layers.Dense(10,activation='relu'),\n",
    "    \n",
    "    keras.layers.Dense(22,activation = 'softmax')\n",
    "])"
   ]
  },
  {
   "cell_type": "code",
   "execution_count": 19,
   "id": "55cfa096",
   "metadata": {
    "id": "55cfa096",
    "outputId": "c50e9909-f3b8-491f-9f6b-31a31724e928"
   },
   "outputs": [
    {
     "name": "stdout",
     "output_type": "stream",
     "text": [
      "Epoch 1/200\n",
      "55/55 [==============================] - 0s 831us/step - loss: 3.0718 - accuracy: 0.0574\n",
      "Epoch 2/200\n",
      "55/55 [==============================] - 0s 865us/step - loss: 3.0162 - accuracy: 0.0722\n",
      "Epoch 3/200\n",
      "55/55 [==============================] - 0s 899us/step - loss: 2.9354 - accuracy: 0.1170\n",
      "Epoch 4/200\n",
      "55/55 [==============================] - 0s 966us/step - loss: 2.8074 - accuracy: 0.1881\n",
      "Epoch 5/200\n",
      "55/55 [==============================] - 0s 807us/step - loss: 2.6205 - accuracy: 0.2557\n",
      "Epoch 6/200\n",
      "55/55 [==============================] - 0s 799us/step - loss: 2.3661 - accuracy: 0.3000\n",
      "Epoch 7/200\n",
      "55/55 [==============================] - 0s 908us/step - loss: 2.0590 - accuracy: 0.3977\n",
      "Epoch 8/200\n",
      "55/55 [==============================] - 0s 851us/step - loss: 1.7687 - accuracy: 0.5420\n",
      "Epoch 9/200\n",
      "55/55 [==============================] - 0s 835us/step - loss: 1.5306 - accuracy: 0.5631\n",
      "Epoch 10/200\n",
      "55/55 [==============================] - 0s 992us/step - loss: 1.3410 - accuracy: 0.6295\n",
      "Epoch 11/200\n",
      "55/55 [==============================] - 0s 905us/step - loss: 1.1945 - accuracy: 0.6909\n",
      "Epoch 12/200\n",
      "55/55 [==============================] - 0s 1ms/step - loss: 1.0779 - accuracy: 0.7193\n",
      "Epoch 13/200\n",
      "55/55 [==============================] - 0s 944us/step - loss: 0.9840 - accuracy: 0.7500\n",
      "Epoch 14/200\n",
      "55/55 [==============================] - 0s 835us/step - loss: 0.9048 - accuracy: 0.7619\n",
      "Epoch 15/200\n",
      "55/55 [==============================] - 0s 921us/step - loss: 0.8377 - accuracy: 0.7795\n",
      "Epoch 16/200\n",
      "55/55 [==============================] - 0s 809us/step - loss: 0.7768 - accuracy: 0.8057\n",
      "Epoch 17/200\n",
      "55/55 [==============================] - 0s 895us/step - loss: 0.7254 - accuracy: 0.8159\n",
      "Epoch 18/200\n",
      "55/55 [==============================] - 0s 886us/step - loss: 0.6768 - accuracy: 0.8227\n",
      "Epoch 19/200\n",
      "55/55 [==============================] - 0s 895us/step - loss: 0.6374 - accuracy: 0.8398\n",
      "Epoch 20/200\n",
      "55/55 [==============================] - 0s 868us/step - loss: 0.5975 - accuracy: 0.8545\n",
      "Epoch 21/200\n",
      "55/55 [==============================] - 0s 878us/step - loss: 0.5672 - accuracy: 0.8608\n",
      "Epoch 22/200\n",
      "55/55 [==============================] - 0s 894us/step - loss: 0.5403 - accuracy: 0.8727\n",
      "Epoch 23/200\n",
      "55/55 [==============================] - 0s 864us/step - loss: 0.5109 - accuracy: 0.8784\n",
      "Epoch 24/200\n",
      "55/55 [==============================] - 0s 825us/step - loss: 0.4875 - accuracy: 0.8881\n",
      "Epoch 25/200\n",
      "55/55 [==============================] - 0s 902us/step - loss: 0.4630 - accuracy: 0.8943\n",
      "Epoch 26/200\n",
      "55/55 [==============================] - 0s 907us/step - loss: 0.4428 - accuracy: 0.9011\n",
      "Epoch 27/200\n",
      "55/55 [==============================] - 0s 938us/step - loss: 0.4269 - accuracy: 0.8983\n",
      "Epoch 28/200\n",
      "55/55 [==============================] - 0s 821us/step - loss: 0.4076 - accuracy: 0.9006\n",
      "Epoch 29/200\n",
      "55/55 [==============================] - 0s 919us/step - loss: 0.3904 - accuracy: 0.9034\n",
      "Epoch 30/200\n",
      "55/55 [==============================] - 0s 789us/step - loss: 0.3699 - accuracy: 0.9108\n",
      "Epoch 31/200\n",
      "55/55 [==============================] - 0s 893us/step - loss: 0.3619 - accuracy: 0.9102\n",
      "Epoch 32/200\n",
      "55/55 [==============================] - 0s 915us/step - loss: 0.3474 - accuracy: 0.9108\n",
      "Epoch 33/200\n",
      "55/55 [==============================] - 0s 954us/step - loss: 0.3421 - accuracy: 0.9068\n",
      "Epoch 34/200\n",
      "55/55 [==============================] - 0s 807us/step - loss: 0.3292 - accuracy: 0.9119\n",
      "Epoch 35/200\n",
      "55/55 [==============================] - 0s 887us/step - loss: 0.3154 - accuracy: 0.9199\n",
      "Epoch 36/200\n",
      "55/55 [==============================] - 0s 898us/step - loss: 0.3069 - accuracy: 0.9187\n",
      "Epoch 37/200\n",
      "55/55 [==============================] - 0s 804us/step - loss: 0.2963 - accuracy: 0.9216\n",
      "Epoch 38/200\n",
      "55/55 [==============================] - 0s 1ms/step - loss: 0.2927 - accuracy: 0.9205\n",
      "Epoch 39/200\n",
      "55/55 [==============================] - 0s 923us/step - loss: 0.2846 - accuracy: 0.9239\n",
      "Epoch 40/200\n",
      "55/55 [==============================] - 0s 807us/step - loss: 0.2724 - accuracy: 0.9273\n",
      "Epoch 41/200\n",
      "55/55 [==============================] - 0s 811us/step - loss: 0.2691 - accuracy: 0.9250\n",
      "Epoch 42/200\n",
      "55/55 [==============================] - 0s 870us/step - loss: 0.2594 - accuracy: 0.9318\n",
      "Epoch 43/200\n",
      "55/55 [==============================] - 0s 957us/step - loss: 0.2561 - accuracy: 0.9301\n",
      "Epoch 44/200\n",
      "55/55 [==============================] - 0s 1000us/step - loss: 0.2474 - accuracy: 0.9330\n",
      "Epoch 45/200\n",
      "55/55 [==============================] - 0s 907us/step - loss: 0.2401 - accuracy: 0.9352\n",
      "Epoch 46/200\n",
      "55/55 [==============================] - 0s 783us/step - loss: 0.2385 - accuracy: 0.9352\n",
      "Epoch 47/200\n",
      "55/55 [==============================] - 0s 812us/step - loss: 0.2344 - accuracy: 0.9358\n",
      "Epoch 48/200\n",
      "55/55 [==============================] - 0s 803us/step - loss: 0.2221 - accuracy: 0.9375\n",
      "Epoch 49/200\n",
      "55/55 [==============================] - 0s 891us/step - loss: 0.2208 - accuracy: 0.9432\n",
      "Epoch 50/200\n",
      "55/55 [==============================] - 0s 863us/step - loss: 0.2210 - accuracy: 0.9341\n",
      "Epoch 51/200\n",
      "55/55 [==============================] - 0s 790us/step - loss: 0.2098 - accuracy: 0.9438\n",
      "Epoch 52/200\n",
      "55/55 [==============================] - 0s 806us/step - loss: 0.2033 - accuracy: 0.9415\n",
      "Epoch 53/200\n",
      "55/55 [==============================] - 0s 839us/step - loss: 0.1982 - accuracy: 0.9472\n",
      "Epoch 54/200\n",
      "55/55 [==============================] - 0s 957us/step - loss: 0.1953 - accuracy: 0.9438\n",
      "Epoch 55/200\n",
      "55/55 [==============================] - 0s 756us/step - loss: 0.1870 - accuracy: 0.9517\n",
      "Epoch 56/200\n",
      "55/55 [==============================] - 0s 822us/step - loss: 0.1871 - accuracy: 0.9528\n",
      "Epoch 57/200\n",
      "55/55 [==============================] - 0s 850us/step - loss: 0.1820 - accuracy: 0.9466\n",
      "Epoch 58/200\n",
      "55/55 [==============================] - 0s 867us/step - loss: 0.1769 - accuracy: 0.9489\n",
      "Epoch 59/200\n",
      "55/55 [==============================] - 0s 879us/step - loss: 0.1733 - accuracy: 0.9557\n",
      "Epoch 60/200\n",
      "55/55 [==============================] - 0s 764us/step - loss: 0.1715 - accuracy: 0.9506\n",
      "Epoch 61/200\n",
      "55/55 [==============================] - 0s 764us/step - loss: 0.1646 - accuracy: 0.9568\n",
      "Epoch 62/200\n",
      "55/55 [==============================] - 0s 829us/step - loss: 0.1614 - accuracy: 0.9557\n",
      "Epoch 63/200\n",
      "55/55 [==============================] - 0s 891us/step - loss: 0.1569 - accuracy: 0.9563\n",
      "Epoch 64/200\n",
      "55/55 [==============================] - 0s 766us/step - loss: 0.1549 - accuracy: 0.9591\n",
      "Epoch 65/200\n",
      "55/55 [==============================] - 0s 927us/step - loss: 0.1507 - accuracy: 0.9642\n",
      "Epoch 66/200\n",
      "55/55 [==============================] - 0s 785us/step - loss: 0.1496 - accuracy: 0.9591\n",
      "Epoch 67/200\n",
      "55/55 [==============================] - 0s 827us/step - loss: 0.1482 - accuracy: 0.9602\n",
      "Epoch 68/200\n",
      "55/55 [==============================] - 0s 1ms/step - loss: 0.1419 - accuracy: 0.9591\n",
      "Epoch 69/200\n",
      "55/55 [==============================] - 0s 797us/step - loss: 0.1373 - accuracy: 0.9636\n",
      "Epoch 70/200\n",
      "55/55 [==============================] - 0s 770us/step - loss: 0.1348 - accuracy: 0.9665\n",
      "Epoch 71/200\n",
      "55/55 [==============================] - 0s 851us/step - loss: 0.1336 - accuracy: 0.9653\n",
      "Epoch 72/200\n",
      "55/55 [==============================] - 0s 874us/step - loss: 0.1345 - accuracy: 0.9602\n",
      "Epoch 73/200\n",
      "55/55 [==============================] - 0s 866us/step - loss: 0.1296 - accuracy: 0.9682\n",
      "Epoch 74/200\n",
      "55/55 [==============================] - 0s 799us/step - loss: 0.1266 - accuracy: 0.9705\n",
      "Epoch 75/200\n",
      "55/55 [==============================] - 0s 890us/step - loss: 0.1246 - accuracy: 0.9676\n",
      "Epoch 76/200\n",
      "55/55 [==============================] - 0s 777us/step - loss: 0.1226 - accuracy: 0.9665\n",
      "Epoch 77/200\n",
      "55/55 [==============================] - 0s 787us/step - loss: 0.1179 - accuracy: 0.9705\n",
      "Epoch 78/200\n",
      "55/55 [==============================] - 0s 836us/step - loss: 0.1176 - accuracy: 0.9705\n",
      "Epoch 79/200\n",
      "55/55 [==============================] - 0s 873us/step - loss: 0.1139 - accuracy: 0.9710\n",
      "Epoch 80/200\n",
      "55/55 [==============================] - 0s 861us/step - loss: 0.1119 - accuracy: 0.9750\n",
      "Epoch 81/200\n",
      "55/55 [==============================] - 0s 886us/step - loss: 0.1145 - accuracy: 0.9665\n",
      "Epoch 82/200\n",
      "55/55 [==============================] - 0s 873us/step - loss: 0.1107 - accuracy: 0.9716\n",
      "Epoch 83/200\n",
      "55/55 [==============================] - 0s 743us/step - loss: 0.1060 - accuracy: 0.9699\n",
      "Epoch 84/200\n",
      "55/55 [==============================] - 0s 820us/step - loss: 0.1051 - accuracy: 0.9756\n",
      "Epoch 85/200\n",
      "55/55 [==============================] - 0s 751us/step - loss: 0.1031 - accuracy: 0.9722\n",
      "Epoch 86/200\n",
      "55/55 [==============================] - 0s 816us/step - loss: 0.1068 - accuracy: 0.9716\n",
      "Epoch 87/200\n",
      "55/55 [==============================] - 0s 735us/step - loss: 0.1012 - accuracy: 0.9761\n",
      "Epoch 88/200\n",
      "55/55 [==============================] - 0s 800us/step - loss: 0.1008 - accuracy: 0.9739\n",
      "Epoch 89/200\n",
      "55/55 [==============================] - 0s 802us/step - loss: 0.0970 - accuracy: 0.9739\n",
      "Epoch 90/200\n",
      "55/55 [==============================] - 0s 827us/step - loss: 0.0941 - accuracy: 0.9744\n",
      "Epoch 91/200\n",
      "55/55 [==============================] - 0s 762us/step - loss: 0.0915 - accuracy: 0.9739\n",
      "Epoch 92/200\n",
      "55/55 [==============================] - 0s 755us/step - loss: 0.0916 - accuracy: 0.9778\n",
      "Epoch 93/200\n",
      "55/55 [==============================] - 0s 775us/step - loss: 0.0894 - accuracy: 0.9739\n",
      "Epoch 94/200\n",
      "55/55 [==============================] - 0s 745us/step - loss: 0.0903 - accuracy: 0.9778\n",
      "Epoch 95/200\n",
      "55/55 [==============================] - 0s 821us/step - loss: 0.0869 - accuracy: 0.9744\n",
      "Epoch 96/200\n",
      "55/55 [==============================] - 0s 759us/step - loss: 0.0855 - accuracy: 0.9784\n",
      "Epoch 97/200\n",
      "55/55 [==============================] - 0s 774us/step - loss: 0.0873 - accuracy: 0.9750\n",
      "Epoch 98/200\n",
      "55/55 [==============================] - 0s 823us/step - loss: 0.0845 - accuracy: 0.9761\n",
      "Epoch 99/200\n",
      "55/55 [==============================] - 0s 767us/step - loss: 0.0810 - accuracy: 0.9790\n",
      "Epoch 100/200\n",
      "55/55 [==============================] - 0s 786us/step - loss: 0.0807 - accuracy: 0.9767\n",
      "Epoch 101/200\n",
      "55/55 [==============================] - 0s 772us/step - loss: 0.0810 - accuracy: 0.9790\n",
      "Epoch 102/200\n",
      "55/55 [==============================] - 0s 759us/step - loss: 0.0780 - accuracy: 0.9801\n",
      "Epoch 103/200\n",
      "55/55 [==============================] - 0s 822us/step - loss: 0.0791 - accuracy: 0.9767\n",
      "Epoch 104/200\n",
      "55/55 [==============================] - 0s 817us/step - loss: 0.0756 - accuracy: 0.9778\n",
      "Epoch 105/200\n",
      "55/55 [==============================] - 0s 810us/step - loss: 0.0765 - accuracy: 0.9807\n",
      "Epoch 106/200\n",
      "55/55 [==============================] - 0s 769us/step - loss: 0.0750 - accuracy: 0.9801\n",
      "Epoch 107/200\n",
      "55/55 [==============================] - 0s 812us/step - loss: 0.0746 - accuracy: 0.9812\n",
      "Epoch 108/200\n",
      "55/55 [==============================] - 0s 783us/step - loss: 0.0747 - accuracy: 0.9801\n",
      "Epoch 109/200\n",
      "55/55 [==============================] - 0s 804us/step - loss: 0.0715 - accuracy: 0.9812\n",
      "Epoch 110/200\n",
      "55/55 [==============================] - 0s 751us/step - loss: 0.0717 - accuracy: 0.9778\n",
      "Epoch 111/200\n",
      "55/55 [==============================] - 0s 773us/step - loss: 0.0710 - accuracy: 0.9784\n",
      "Epoch 112/200\n",
      "55/55 [==============================] - 0s 822us/step - loss: 0.0682 - accuracy: 0.9812\n",
      "Epoch 113/200\n",
      "55/55 [==============================] - 0s 788us/step - loss: 0.0687 - accuracy: 0.9784\n",
      "Epoch 114/200\n",
      "55/55 [==============================] - 0s 1ms/step - loss: 0.0682 - accuracy: 0.9824\n",
      "Epoch 115/200\n",
      "55/55 [==============================] - 0s 829us/step - loss: 0.0674 - accuracy: 0.9790\n",
      "Epoch 116/200\n",
      "55/55 [==============================] - 0s 1ms/step - loss: 0.0700 - accuracy: 0.9824\n",
      "Epoch 117/200\n",
      "55/55 [==============================] - 0s 1ms/step - loss: 0.0676 - accuracy: 0.9824\n",
      "Epoch 118/200\n",
      "55/55 [==============================] - 0s 1ms/step - loss: 0.0664 - accuracy: 0.9801\n",
      "Epoch 119/200\n",
      "55/55 [==============================] - 0s 939us/step - loss: 0.0642 - accuracy: 0.9790\n",
      "Epoch 120/200\n",
      "55/55 [==============================] - 0s 866us/step - loss: 0.0635 - accuracy: 0.9835\n",
      "Epoch 121/200\n",
      "55/55 [==============================] - 0s 761us/step - loss: 0.0611 - accuracy: 0.9841\n",
      "Epoch 122/200\n",
      "55/55 [==============================] - 0s 800us/step - loss: 0.0634 - accuracy: 0.9784\n",
      "Epoch 123/200\n",
      "55/55 [==============================] - 0s 770us/step - loss: 0.0617 - accuracy: 0.9818\n",
      "Epoch 124/200\n",
      "55/55 [==============================] - 0s 758us/step - loss: 0.0671 - accuracy: 0.9778\n",
      "Epoch 125/200\n",
      "55/55 [==============================] - 0s 755us/step - loss: 0.0610 - accuracy: 0.9847\n",
      "Epoch 126/200\n",
      "55/55 [==============================] - 0s 751us/step - loss: 0.0623 - accuracy: 0.9807\n",
      "Epoch 127/200\n",
      "55/55 [==============================] - 0s 854us/step - loss: 0.0595 - accuracy: 0.9807\n",
      "Epoch 128/200\n",
      "55/55 [==============================] - 0s 758us/step - loss: 0.0602 - accuracy: 0.9784\n",
      "Epoch 129/200\n",
      "55/55 [==============================] - 0s 814us/step - loss: 0.0600 - accuracy: 0.9841\n",
      "Epoch 130/200\n",
      "55/55 [==============================] - 0s 762us/step - loss: 0.0590 - accuracy: 0.9830\n",
      "Epoch 131/200\n",
      "55/55 [==============================] - 0s 722us/step - loss: 0.0633 - accuracy: 0.9784\n",
      "Epoch 132/200\n",
      "55/55 [==============================] - 0s 708us/step - loss: 0.0567 - accuracy: 0.9841\n",
      "Epoch 133/200\n",
      "55/55 [==============================] - 0s 724us/step - loss: 0.0580 - accuracy: 0.9830\n",
      "Epoch 134/200\n",
      "55/55 [==============================] - 0s 750us/step - loss: 0.0552 - accuracy: 0.9818\n",
      "Epoch 135/200\n",
      "55/55 [==============================] - 0s 787us/step - loss: 0.0576 - accuracy: 0.9812\n",
      "Epoch 136/200\n",
      "55/55 [==============================] - 0s 755us/step - loss: 0.0567 - accuracy: 0.9818\n",
      "Epoch 137/200\n",
      "55/55 [==============================] - 0s 742us/step - loss: 0.0554 - accuracy: 0.9852\n",
      "Epoch 138/200\n",
      "55/55 [==============================] - 0s 737us/step - loss: 0.0562 - accuracy: 0.9830\n",
      "Epoch 139/200\n",
      "55/55 [==============================] - 0s 847us/step - loss: 0.0553 - accuracy: 0.9824\n",
      "Epoch 140/200\n",
      "55/55 [==============================] - 0s 728us/step - loss: 0.0557 - accuracy: 0.9818\n",
      "Epoch 141/200\n",
      "55/55 [==============================] - 0s 830us/step - loss: 0.0577 - accuracy: 0.9790\n",
      "Epoch 142/200\n",
      "55/55 [==============================] - 0s 766us/step - loss: 0.0519 - accuracy: 0.9830\n",
      "Epoch 143/200\n",
      "55/55 [==============================] - 0s 780us/step - loss: 0.0536 - accuracy: 0.9835\n",
      "Epoch 144/200\n",
      "55/55 [==============================] - 0s 808us/step - loss: 0.0524 - accuracy: 0.9830\n",
      "Epoch 145/200\n",
      "55/55 [==============================] - 0s 797us/step - loss: 0.0508 - accuracy: 0.9864\n",
      "Epoch 146/200\n",
      "55/55 [==============================] - 0s 770us/step - loss: 0.0513 - accuracy: 0.9830\n",
      "Epoch 147/200\n",
      "55/55 [==============================] - 0s 825us/step - loss: 0.0529 - accuracy: 0.9824\n",
      "Epoch 148/200\n",
      "55/55 [==============================] - 0s 810us/step - loss: 0.0501 - accuracy: 0.9858\n",
      "Epoch 149/200\n",
      "55/55 [==============================] - 0s 766us/step - loss: 0.0530 - accuracy: 0.9841\n",
      "Epoch 150/200\n",
      "55/55 [==============================] - 0s 781us/step - loss: 0.0498 - accuracy: 0.9835\n",
      "Epoch 151/200\n",
      "55/55 [==============================] - 0s 837us/step - loss: 0.0512 - accuracy: 0.9841\n",
      "Epoch 152/200\n",
      "55/55 [==============================] - 0s 804us/step - loss: 0.0487 - accuracy: 0.9847\n",
      "Epoch 153/200\n",
      "55/55 [==============================] - 0s 820us/step - loss: 0.0502 - accuracy: 0.9835\n",
      "Epoch 154/200\n",
      "55/55 [==============================] - 0s 726us/step - loss: 0.0484 - accuracy: 0.9835\n",
      "Epoch 155/200\n",
      "55/55 [==============================] - 0s 771us/step - loss: 0.0487 - accuracy: 0.9864\n",
      "Epoch 156/200\n",
      "55/55 [==============================] - 0s 791us/step - loss: 0.0446 - accuracy: 0.9841\n",
      "Epoch 157/200\n",
      "55/55 [==============================] - 0s 806us/step - loss: 0.0470 - accuracy: 0.9835\n",
      "Epoch 158/200\n",
      "55/55 [==============================] - 0s 827us/step - loss: 0.0461 - accuracy: 0.9841\n",
      "Epoch 159/200\n",
      "55/55 [==============================] - 0s 757us/step - loss: 0.0484 - accuracy: 0.9835\n",
      "Epoch 160/200\n"
     ]
    },
    {
     "name": "stdout",
     "output_type": "stream",
     "text": [
      "55/55 [==============================] - 0s 773us/step - loss: 0.0480 - accuracy: 0.9824\n",
      "Epoch 161/200\n",
      "55/55 [==============================] - 0s 850us/step - loss: 0.0476 - accuracy: 0.9869\n",
      "Epoch 162/200\n",
      "55/55 [==============================] - 0s 798us/step - loss: 0.0460 - accuracy: 0.9852\n",
      "Epoch 163/200\n",
      "55/55 [==============================] - 0s 753us/step - loss: 0.0463 - accuracy: 0.9847\n",
      "Epoch 164/200\n",
      "55/55 [==============================] - 0s 791us/step - loss: 0.0443 - accuracy: 0.9875\n",
      "Epoch 165/200\n",
      "55/55 [==============================] - 0s 894us/step - loss: 0.0436 - accuracy: 0.9864\n",
      "Epoch 166/200\n",
      "55/55 [==============================] - 0s 759us/step - loss: 0.0443 - accuracy: 0.9847\n",
      "Epoch 167/200\n",
      "55/55 [==============================] - 0s 831us/step - loss: 0.0456 - accuracy: 0.9847\n",
      "Epoch 168/200\n",
      "55/55 [==============================] - 0s 739us/step - loss: 0.0472 - accuracy: 0.9852\n",
      "Epoch 169/200\n",
      "55/55 [==============================] - 0s 769us/step - loss: 0.0419 - accuracy: 0.9864\n",
      "Epoch 170/200\n",
      "55/55 [==============================] - 0s 743us/step - loss: 0.0416 - accuracy: 0.9875\n",
      "Epoch 171/200\n",
      "55/55 [==============================] - 0s 829us/step - loss: 0.0412 - accuracy: 0.9875\n",
      "Epoch 172/200\n",
      "55/55 [==============================] - 0s 812us/step - loss: 0.0422 - accuracy: 0.9875\n",
      "Epoch 173/200\n",
      "55/55 [==============================] - 0s 805us/step - loss: 0.0433 - accuracy: 0.9841\n",
      "Epoch 174/200\n",
      "55/55 [==============================] - 0s 751us/step - loss: 0.0418 - accuracy: 0.9858\n",
      "Epoch 175/200\n",
      "55/55 [==============================] - 0s 748us/step - loss: 0.0446 - accuracy: 0.9864\n",
      "Epoch 176/200\n",
      "55/55 [==============================] - 0s 843us/step - loss: 0.0404 - accuracy: 0.9875\n",
      "Epoch 177/200\n",
      "55/55 [==============================] - 0s 720us/step - loss: 0.0410 - accuracy: 0.9875\n",
      "Epoch 178/200\n",
      "55/55 [==============================] - 0s 825us/step - loss: 0.0435 - accuracy: 0.9852\n",
      "Epoch 179/200\n",
      "55/55 [==============================] - 0s 780us/step - loss: 0.0408 - accuracy: 0.9864\n",
      "Epoch 180/200\n",
      "55/55 [==============================] - 0s 799us/step - loss: 0.0416 - accuracy: 0.9864\n",
      "Epoch 181/200\n",
      "55/55 [==============================] - 0s 896us/step - loss: 0.0434 - accuracy: 0.9835\n",
      "Epoch 182/200\n",
      "55/55 [==============================] - 0s 936us/step - loss: 0.0419 - accuracy: 0.9869\n",
      "Epoch 183/200\n",
      "55/55 [==============================] - ETA: 0s - loss: 0.0177 - accuracy: 1.00 - 0s 917us/step - loss: 0.0400 - accuracy: 0.9875\n",
      "Epoch 184/200\n",
      "55/55 [==============================] - 0s 898us/step - loss: 0.0440 - accuracy: 0.9835\n",
      "Epoch 185/200\n",
      "55/55 [==============================] - 0s 817us/step - loss: 0.0394 - accuracy: 0.9869\n",
      "Epoch 186/200\n",
      "55/55 [==============================] - 0s 792us/step - loss: 0.0431 - accuracy: 0.9864\n",
      "Epoch 187/200\n",
      "55/55 [==============================] - 0s 840us/step - loss: 0.0433 - accuracy: 0.9835\n",
      "Epoch 188/200\n",
      "55/55 [==============================] - 0s 786us/step - loss: 0.0432 - accuracy: 0.9847\n",
      "Epoch 189/200\n",
      "55/55 [==============================] - 0s 848us/step - loss: 0.0398 - accuracy: 0.9881\n",
      "Epoch 190/200\n",
      "55/55 [==============================] - 0s 923us/step - loss: 0.0413 - accuracy: 0.9858\n",
      "Epoch 191/200\n",
      "55/55 [==============================] - 0s 855us/step - loss: 0.0416 - accuracy: 0.9875\n",
      "Epoch 192/200\n",
      "55/55 [==============================] - 0s 960us/step - loss: 0.0393 - accuracy: 0.9869\n",
      "Epoch 193/200\n",
      "55/55 [==============================] - 0s 870us/step - loss: 0.0420 - accuracy: 0.9847\n",
      "Epoch 194/200\n",
      "55/55 [==============================] - 0s 895us/step - loss: 0.0388 - accuracy: 0.9881\n",
      "Epoch 195/200\n",
      "55/55 [==============================] - 0s 769us/step - loss: 0.0382 - accuracy: 0.9898\n",
      "Epoch 196/200\n",
      "55/55 [==============================] - 0s 743us/step - loss: 0.0384 - accuracy: 0.9864\n",
      "Epoch 197/200\n",
      "55/55 [==============================] - 0s 854us/step - loss: 0.0403 - accuracy: 0.9847\n",
      "Epoch 198/200\n",
      "55/55 [==============================] - 0s 1ms/step - loss: 0.0377 - accuracy: 0.9869\n",
      "Epoch 199/200\n",
      "55/55 [==============================] - 0s 1ms/step - loss: 0.0374 - accuracy: 0.9886\n",
      "Epoch 200/200\n",
      "55/55 [==============================] - 0s 1ms/step - loss: 0.0443 - accuracy: 0.9830\n"
     ]
    },
    {
     "data": {
      "text/plain": [
       "<keras.callbacks.History at 0x22eaa5eac70>"
      ]
     },
     "execution_count": 19,
     "metadata": {},
     "output_type": "execute_result"
    }
   ],
   "source": [
    "model.compile(optimizer='adam',loss='sparse_categorical_crossentropy',metrics=['accuracy'])\n",
    "\n",
    "model.fit(x_train,y_train,epochs=200)\n"
   ]
  },
  {
   "cell_type": "code",
   "execution_count": 20,
   "id": "829fbc40",
   "metadata": {
    "id": "829fbc40",
    "outputId": "ca4f8d8c-0be0-4f16-b833-614dce5c7ec8"
   },
   "outputs": [
    {
     "name": "stdout",
     "output_type": "stream",
     "text": [
      "14/14 [==============================] - 0s 811us/step - loss: 0.0599 - accuracy: 0.9795\n"
     ]
    },
    {
     "data": {
      "text/plain": [
       "[0.059898991137742996, 0.9795454740524292]"
      ]
     },
     "execution_count": 20,
     "metadata": {},
     "output_type": "execute_result"
    }
   ],
   "source": [
    "model.evaluate(x_test,y_test)"
   ]
  },
  {
   "cell_type": "markdown",
   "id": "99e99a29",
   "metadata": {
    "id": "99e99a29"
   },
   "source": [
    "# Predication System"
   ]
  },
  {
   "cell_type": "code",
   "execution_count": 22,
   "id": "186f5622",
   "metadata": {
    "id": "186f5622",
    "outputId": "4f615bad-4f64-4598-bf3f-dfa127ea22fc"
   },
   "outputs": [
    {
     "name": "stdout",
     "output_type": "stream",
     "text": [
      "90,42,43,20.87974371,82.00274423,6.502985292,202.9355362\n"
     ]
    },
    {
     "name": "stderr",
     "output_type": "stream",
     "text": [
      "c:\\python38\\lib\\site-packages\\sklearn\\base.py:445: UserWarning: X does not have valid feature names, but MinMaxScaler was fitted with feature names\n",
      "  warnings.warn(\n"
     ]
    },
    {
     "data": {
      "text/plain": [
       "array([[0.64285714, 0.26428571, 0.19      , 0.34588614, 0.79026683,\n",
       "        0.46626364, 0.65645778]])"
      ]
     },
     "execution_count": 22,
     "metadata": {},
     "output_type": "execute_result"
    }
   ],
   "source": [
    "#data=(90,42,43,20.87974371,82.00274423,6.502985292,202.9355362)  #rice\n",
    "#data = (71,54,16,22.61359953,63.69070564,5.749914421,87.75953857)  #maize\n",
    "\n",
    "data = list(map(str,input().split(',')))\n",
    "input_data_as_array = np.asarray(data)\n",
    "\n",
    "data_reshape= input_data_as_array.reshape(1,-1)\n",
    "\n",
    "std_data = scaler.transform(data_reshape)\n",
    "std_data\n",
    "\n"
   ]
  },
  {
   "cell_type": "code",
   "execution_count": 23,
   "id": "986ff005",
   "metadata": {
    "id": "986ff005",
    "outputId": "243d7df1-ffa8-4d5a-9003-7e90a17e2d64"
   },
   "outputs": [
    {
     "data": {
      "text/plain": [
       "array([[3.5833309e-10, 4.2035295e-10, 1.0388703e-17, 1.7688150e-19,\n",
       "        1.0171215e-06, 1.2255489e-05, 5.5468075e-10, 5.9450511e-20,\n",
       "        2.5147760e-02, 0.0000000e+00, 0.0000000e+00, 7.7403505e-15,\n",
       "        1.1112505e-25, 0.0000000e+00, 2.0008296e-28, 0.0000000e+00,\n",
       "        6.2142288e-17, 5.9374583e-05, 2.1681159e-11, 2.4825175e-10,\n",
       "        9.7477961e-01, 1.3473457e-16]], dtype=float32)"
      ]
     },
     "execution_count": 23,
     "metadata": {},
     "output_type": "execute_result"
    }
   ],
   "source": [
    "predication = model.predict(std_data)\n",
    "predication"
   ]
  },
  {
   "cell_type": "code",
   "execution_count": 28,
   "id": "496f0af5",
   "metadata": {
    "id": "496f0af5"
   },
   "outputs": [],
   "source": [
    "qmm = np.argmax(predication)\n",
    "index_number = qt.index(qmm)"
   ]
  },
  {
   "cell_type": "code",
   "execution_count": 29,
   "id": "5d33a2f2",
   "metadata": {
    "id": "5d33a2f2",
    "outputId": "f54fb27a-db5f-415d-e238-f42661842591"
   },
   "outputs": [
    {
     "name": "stdout",
     "output_type": "stream",
     "text": [
      "The crop is rice\n"
     ]
    }
   ],
   "source": [
    "print(\"The crop is\",qtt[index_number])"
   ]
  },
  {
   "cell_type": "code",
   "execution_count": 30,
   "id": "8fe04b0c",
   "metadata": {
    "id": "8fe04b0c",
    "outputId": "72a24de2-ed21-4387-ed98-1661bed36801"
   },
   "outputs": [
    {
     "data": {
      "text/plain": [
       "'maize'"
      ]
     },
     "execution_count": 30,
     "metadata": {},
     "output_type": "execute_result"
    }
   ],
   "source": [
    "df_predication[0]   #for rice\n",
    "df_predication[101]"
   ]
  },
  {
   "cell_type": "code",
   "execution_count": 1,
   "id": "6ab96f0f",
   "metadata": {
    "id": "6ab96f0f"
   },
   "outputs": [
    {
     "name": "stdout",
     "output_type": "stream",
     "text": [
      "User Current Version:- 3.8.10 (tags/v3.8.10:3d8993a, May  3 2021, 11:48:03) [MSC v.1928 64 bit (AMD64)]\n"
     ]
    }
   ],
   "source": [
    "import sys\n",
    "print(\"User Current Version:-\", sys.version)\n"
   ]
  },
  {
   "cell_type": "code",
   "execution_count": null,
   "id": "fee4adb8",
   "metadata": {},
   "outputs": [],
   "source": []
  }
 ],
 "metadata": {
  "colab": {
   "name": "Crop_recommendationnn.ipynb",
   "provenance": []
  },
  "kernelspec": {
   "display_name": "Python 3",
   "language": "python",
   "name": "python3"
  },
  "language_info": {
   "codemirror_mode": {
    "name": "ipython",
    "version": 3
   },
   "file_extension": ".py",
   "mimetype": "text/x-python",
   "name": "python",
   "nbconvert_exporter": "python",
   "pygments_lexer": "ipython3",
   "version": "3.8.10"
  }
 },
 "nbformat": 4,
 "nbformat_minor": 5
}
